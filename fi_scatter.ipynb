{
 "cells": [
  {
   "cell_type": "markdown",
   "metadata": {},
   "source": [
    "# Feature Importance Scatter Plots"
   ]
  },
  {
   "cell_type": "code",
   "execution_count": 4,
   "metadata": {},
   "outputs": [
    {
     "name": "stderr",
     "output_type": "stream",
     "text": [
      "/home/jsalle/.conda/envs/p11/lib/python3.11/site-packages/tqdm/auto.py:21: TqdmWarning: IProgress not found. Please update jupyter and ipywidgets. See https://ipywidgets.readthedocs.io/en/stable/user_install.html\n",
      "  from .autonotebook import tqdm as notebook_tqdm\n"
     ]
    }
   ],
   "source": [
    "import pandas as pd\n",
    "import os\n",
    "import sys\n",
    "from pathlib import Path\n",
    "from scipy.stats import pearsonr, spearmanr\n",
    "import plotly.express as px\n",
    "from typing import List\n",
    "from sklearn.manifold import MDS\n",
    "import plotly.graph_objects as go\n",
    "import torch\n",
    "import numpy as np\n",
    "import seaborn as sns\n",
    "\n",
    "from transformers import AutoTokenizer, AutoModelForCausalLM, BertTokenizer, BertModel, AutoModel, AutoConfig\n",
    "\n",
    "\n",
    "module_path = Path(\"..\")\n",
    "absolute_module_path = module_path.resolve()\n",
    "if str(absolute_module_path) not in sys.path:\n",
    "    sys.path.append(str(absolute_module_path))"
   ]
  },
  {
   "cell_type": "code",
   "execution_count": 42,
   "metadata": {},
   "outputs": [],
   "source": [
    "class Model():\n",
    "\n",
    "    def __init__(self,\n",
    "                 model_name: str,\n",
    "    ):\n",
    "        self.model_name = model_name\n",
    "        \n",
    "\n",
    "    @property\n",
    "    def model(self):\n",
    "        if \"pythia\" in self.model_name:\n",
    "            return self.get_pythia_model(self.model_name.replace(\"pythia-\", \"\"))\n",
    "        if \"gpt2\" in self.model_name:\n",
    "            return self.get_gpt2_model(self.model_name.replace(\"gpt2-\", \"\"))\n",
    "        if \"bert\" in self.model_name:\n",
    "            return self.get_bert_model(self.model_name)\n",
    "        if \"Mistral\" in self.model_name:\n",
    "            return self.get_mistral_model(self.model_name.replace(\"Mistral-\", \"\"))\n",
    "        if \"mamba\" in self.model_name:\n",
    "            return self.get_mamba_model()\n",
    "        else:\n",
    "            raise ValueError(f\"Unsupported model: {self.model_name}.\")\n",
    "    \n",
    "    @property\n",
    "    def tokenizer(self):\n",
    "        if \"bert\" in self.model_name:\n",
    "            tokenizer = BertTokenizer.from_pretrained(self.model_name)\n",
    "        else:\n",
    "            tokenizer = AutoTokenizer.from_pretrained(self.model_name)\n",
    "        tokenizer.pad_token = tokenizer.eos_token\n",
    "        return tokenizer\n",
    "\n",
    "    @property\n",
    "    def n_layers(self):\n",
    "        return self.model.config.num_hidden_layers\n",
    "\n",
    "    \n",
    "    def get_layers_to_enumerate(self):\n",
    "        if 'gpt' in self.model_name:\n",
    "            return self.model.transformer.h\n",
    "        elif 'pythia' in self.model_name:\n",
    "            return self.model.gpt_neox.layers\n",
    "        elif 'bert' in self.model_name:\n",
    "            return self.model.encoder.layer\n",
    "        elif 'Mistral' in self.model_name:\n",
    "            return self.model.model.layers\n",
    "        else:\n",
    "            raise ValueError(f\"Unsupported model: {self.model_name}.\")\n",
    "\n",
    "\n",
    "    def get_model(self, model_name):\n",
    "        model_config = AutoConfig.from_pretrained(\n",
    "            model_name,\n",
    "            output_hidden_states=True,\n",
    "            ignore_mismatched_sizes=True\n",
    "        )\n",
    "        model = AutoModel.from_pretrained(\n",
    "            model_name,\n",
    "            config=model_config,\n",
    "            ignore_mismatched_sizes=True\n",
    "            #trust_remote_code=True,\n",
    "            #device_map=\"auto\"\n",
    "        )\n",
    "        return model\n",
    "\n",
    "    def get_pythia_model(self, size: str):\n",
    "        assert size in [\"14m\", \"31m\", \"70m\", \"160m\", \"410m\", \"1b\", \"2.8b\", \"6.9b\", \"12b\"]\n",
    "        model_name = f\"EleutherAI/pythia-{size}\"\n",
    "        return self.get_model(model_name)\n",
    "\n",
    "    def get_gpt2_model(self, size: str):\n",
    "        assert size in [\"gpt2\", \"small\", \"medium\", \"large\", \"xl\"]\n",
    "        if (size == \"small\" or size==\"gpt2\"):\n",
    "            model_name = \"gpt2\"\n",
    "        else:\n",
    "            model_name = f\"gpt2-{size}\"\n",
    "        return self.get_model(model_name)\n",
    "\n",
    "    def get_bert_model(self, model_name: str):\n",
    "        model = BertModel.from_pretrained(model_name)\n",
    "        return model\n",
    "\n",
    "    def get_mistral_model(self, size: str):\n",
    "        assert size in [\"7\", \"7x8\"]\n",
    "        model_name = f\"mistralai/Mistral-{size}B-v0.1\"\n",
    "        return self.get_model(model_name)\n",
    "\n",
    "    def get_mamba_model(self):\n",
    "        model_name = f\"state-spaces/mamba-130m-hf\"\n",
    "        return self.get_model(model_name)\n",
    "\n",
    "    \n",
    "\n",
    "class FeatureImportanceScatterPlot():\n",
    "\n",
    "    def __init__(self,\n",
    "                 models_names: list[str],\n",
    "                 dataset: str,\n",
    "                 take_activation_from: str = None,\n",
    "                 fi_data_path: str = '/scratch2/jsalle/MLEM/experiments',\n",
    "                 save_folder_path: str = '/scratch2/jsalle/MLEM/feature_importance_scatter_plots',\n",
    "    ):\n",
    "\n",
    "        assert take_activation_from in ['last-token', 'mean']\n",
    "        self.models_names = models_names\n",
    "        self.dataset = dataset\n",
    "        self.take_activation_from = take_activation_from\n",
    "        self.fi_data_path = fi_data_path\n",
    "        self.save_folder_path = save_folder_path\n",
    "\n",
    "        self.folder_path_for_dataset = os.path.join(save_folder_path, dataset)\n",
    "        if not os.path.exists(self.folder_path_for_dataset):\n",
    "            os.makedirs(self.folder_path_for_dataset)\n",
    "            print(f\"Folder '{self.folder_path_for_dataset}' created.\")\n",
    "        else:\n",
    "            print(f\"Folder '{self.folder_path_for_dataset}' already exists.\")\n",
    "\n",
    "    @property\n",
    "    def models(self):\n",
    "        \"\"\" List of all models defined in self.model_names.\n",
    "        \"\"\"\n",
    "        return [Model(model_name).model for model_name in self.model_names]\n",
    "\n",
    "\n",
    "    def get_feature_importances(self):\n",
    "        \"\"\" Get the feature importances for all models in self.model_names.\n",
    "        \"\"\"\n",
    "\n",
    "        fi_df = pd.DataFrame()\n",
    "        for model_name in self.models_names:\n",
    "            n_layers = Model(model_name).n_layers\n",
    "\n",
    "            for layer_id in range(1, n_layers+1):\n",
    "                fi_current_layer = pd.read_csv(os.path.join(self.fi_data_path, \n",
    "                                            self.dataset, \n",
    "                                            model_name, \n",
    "                                            'spe_tok', \n",
    "                                            'analysis', \n",
    "                                            self.take_activation_from,\n",
    "                                            'euclidean/zscore_False',\n",
    "                                            f'layer_{layer_id}',\n",
    "                                            'min_max_True',\n",
    "                                            'feature_importance_conditional_False.csv'))\n",
    "                fi_df = pd.concat([fi_df, fi_current_layer])\n",
    "\n",
    "        fi_scatter_df = pd.DataFrame()\n",
    "        for feature in fi_df['Feature'].unique():\n",
    "            temp = {}\n",
    "            temp['feature'] = feature\n",
    "            for model in self.models_names:\n",
    "                feature_df = fi_df[(fi_df['Feature'] == feature) & (fi_df['_model'] == model)]\n",
    "                try:\n",
    "                    temp.update({f\"{model}_{i}\": np.log(feature_df[feature_df['layer'] == i]['importance'].values[0]) for i in range(1, Model(model).n_layers+1)})\n",
    "                except: # If the feature importance = 0\n",
    "                    temp.update({f\"{model}_{i}\": feature_df[feature_df['layer'] == i]['importance'].values[0] for i in range(1, Model(model).n_layers+1)})\n",
    "            \n",
    "            temp_df = pd.DataFrame(temp, index=[0])\n",
    "            fi_scatter_df = pd.concat([fi_scatter_df, temp_df], ignore_index=True)\n",
    "\n",
    "        fi_scatter_df.to_csv(os.path.join(self.folder_path_for_dataset,\n",
    "                                        f'{self.take_activation_from}_fi_scatter.csv'), index=False)\n",
    "\n",
    "        self.fi_scatter_df = fi_scatter_df # Contains log(feature_importance) for each feature in each layer\n",
    "        return fi_scatter_df\n",
    "\n",
    "    \n",
    "    def pairwise_correlation_matrix(self):\n",
    "\n",
    "        data = []\n",
    "        layer_names = self.fi_scatter_df.columns.tolist()\n",
    "        layer_names.remove('feature')\n",
    "        num_layers = len(layer_names)\n",
    "\n",
    "        for i in range(num_layers):\n",
    "            for j in range(i + 1, num_layers):\n",
    "                layer1 = layer_names[i]\n",
    "                layer2 = layer_names[j]\n",
    "                vec1 = self.fi_scatter_df[layer1].to_numpy()\n",
    "                vec2 = self.fi_scatter_df[layer2].to_numpy()\n",
    "                correlation, _ = spearmanr(vec1, vec2)\n",
    "                print(f\"{layer1} - {layer2}: {correlation}\")\n",
    "                \n",
    "                data.append([layer1, layer2, correlation])\n",
    "\n",
    "        self.pairwise_correlation_df = pd.DataFrame(data, columns=['layer1', 'layer2', 'correlation'])\n",
    "\n",
    "        return self.pairwise_correlation_df\n",
    "\n",
    "\n",
    "    def plot_fi_scatter(self,\n",
    "                        layer_id1: int,\n",
    "                        layer_id2: int):\n",
    "\n",
    "        fi_scatter_df = self.fi_scatter_df\n",
    "        # Give one color per feature\n",
    "        colors = sns.color_palette(\"colorblind\")\n",
    "        feature_names = sorted(fi_scatter_df[\"feature\"].unique().tolist(), reverse=True)\n",
    "        feature_color_mapping = {feature: colors[i] for i, feature in enumerate(feature_names)}\n",
    "        feature_color_mapping_hex = {feature: f'rgb({int(color[0]*255)}, {int(color[1]*255)}, {int(color[2]*255)})' for feature, color in feature_color_mapping.items()}\n",
    "        \n",
    "        new_features_names = {'lexical_n_letters': 'word length',\n",
    "                              'grammatical_number': 'grammatical number',\n",
    "                              'grammatical_gender': 'grammatical gender',\n",
    "                              'grammatical_pos': 'part-of-speech',\n",
    "                              'grammatical_tense': 'tense',\n",
    "                              'grammatical_person': 'person',\n",
    "                              'sequential_posit_from_start': 'word position',\n",
    "                              'sentential_question': 'question'}\n",
    "        \n",
    "        for index, row in fi_scatter_df.iterrows():\n",
    "            feature = row['feature']\n",
    "            if feature in new_features_names:\n",
    "                fi_scatter_df.loc[index, 'feature'] = new_features_names[feature]\n",
    "\n",
    "        for col in fi_scatter_df.columns:\n",
    "            renamed_bert_columns = {}\n",
    "            if 'bert' in col:\n",
    "                layer_number = int(col.split('_')[-1])\n",
    "                renamed_bert_columns[col] = f'bert_{layer_number}'\n",
    "            fi_scatter_df.rename(columns=renamed_bert_columns, inplace=True)\n",
    "\n",
    "        fi_scatter_df['max_value_pre'] = fi_scatter_df[[layer_id1, layer_id2]].max(axis=1) \n",
    "        fi_scatter_df['max_value'] = fi_scatter_df['max_value_pre'] + fi_scatter_df['max_value_pre'].min() + 1\n",
    "\n",
    "        fig = px.scatter(fi_scatter_df, \n",
    "                         x=layer_id1, \n",
    "                         y=layer_id2, \n",
    "                         color='feature',\n",
    "                         color_discrete_map=feature_color_mapping_hex,\n",
    "                         size='max_value')\n",
    "\n",
    "        \n",
    "        min_ = min(fi_scatter_df[layer_id1].min(), fi_scatter_df[layer_id2].min())\n",
    "        max_ = max(fi_scatter_df[layer_id1].max(), fi_scatter_df[layer_id2].max())\n",
    "\n",
    "        fig.update_layout(\n",
    "            xaxis=dict(\n",
    "                range=[min_-0.01, \n",
    "                       max_+0.01],\n",
    "                zeroline=False,\n",
    "                showline=True,\n",
    "                mirror=True,\n",
    "                ticks='outside',\n",
    "                showgrid=False,\n",
    "            ),\n",
    "            yaxis=dict(\n",
    "                range=[min_-0.01,\n",
    "                       max_+0.01],\n",
    "                zeroline=False,\n",
    "                showline=True,\n",
    "                mirror=True,\n",
    "                ticks='outside',\n",
    "                showgrid=False,\n",
    "            ),\n",
    "            plot_bgcolor='white',\n",
    "            width=600, \n",
    "            height=500\n",
    "        )\n",
    "\n",
    "        # Add diagonal line\n",
    "        fig.add_shape(\n",
    "            type='line',\n",
    "            xref=\"paper\", yref=\"paper\",\n",
    "            x0=0,\n",
    "            y0=0,\n",
    "            x1=1,\n",
    "            y1=1,\n",
    "            line=dict(\n",
    "                color='grey',\n",
    "                dash='dash'\n",
    "            )\n",
    "        )\n",
    "\n",
    "        vec1 = self.fi_scatter_df[layer_id1].to_numpy()\n",
    "        vec2 = self.fi_scatter_df[layer_id2].to_numpy()\n",
    "        correlation, _ = spearmanr(vec1, vec2)\n",
    "        print('Spearman coeff:', correlation)\n",
    "\n",
    "        return fig\n",
    "    \n",
    "\n",
    "    def plot_pairwise_correlation_matrix(self):\n",
    "        def sort_key(layer_name):\n",
    "            model_name, layer_id = layer_name.split('_')\n",
    "            return (model_name, int(layer_id))\n",
    "        \n",
    "        layer_names = self.fi_scatter_df.columns.tolist()\n",
    "        layer_names.remove('feature')\n",
    "        df = self.pairwise_correlation_df\n",
    "\n",
    "        layer_names_sorted = sorted(layer_names, key=sort_key)\n",
    "        layer_order = {layer: i for i, layer in enumerate(layer_names_sorted)}\n",
    "\n",
    "        df['layer1_ordered'] = df['layer1'].map(layer_order)\n",
    "        df['layer2_ordered'] = df['layer2'].map(layer_order)\n",
    "        df = df.sort_values(by=['layer1_ordered', \n",
    "                                'layer2_ordered']).drop(columns=['layer1_ordered', 'layer2_ordered'])\n",
    "\n",
    "        pivot_df = df.pivot(index='layer1', columns='layer2', values='correlation')\n",
    "        pivot_df = pivot_df.T.combine_first(pivot_df).fillna(1)\n",
    "        pivot_df = pivot_df.reindex(index=layer_names_sorted, columns=layer_names_sorted)\n",
    "        fig = px.imshow(pivot_df, text_auto='.2f', color_continuous_scale='Viridis', \n",
    "                        labels=dict(x=\"Layer\", y=\"Layer\", color=\"Correlation\"))\n",
    "\n",
    "        fig.update_layout(title='Correlation Between ', xaxis_title='Layer', yaxis_title='Layer')\n",
    "\n",
    "        pivot_df.to_csv(os.path.join(self.folder_path_for_dataset,\n",
    "                                    f'{self.take_activation_from}_pairwise_scatter_corr.csv'),\n",
    "                            index=False)\n",
    "\n",
    "        return fig"
   ]
  },
  {
   "cell_type": "code",
   "execution_count": 43,
   "metadata": {},
   "outputs": [
    {
     "name": "stdout",
     "output_type": "stream",
     "text": [
      "Folder '/scratch2/jsalle/MLEM/feature_importance_scatter_plots/svo_long_word_level_offset_simplif' already exists.\n"
     ]
    },
    {
     "name": "stderr",
     "output_type": "stream",
     "text": [
      "/tmp/ipykernel_2619416/1690533615.py:153: RuntimeWarning:\n",
      "\n",
      "divide by zero encountered in log\n",
      "\n",
      "/tmp/ipykernel_2619416/1690533615.py:153: RuntimeWarning:\n",
      "\n",
      "invalid value encountered in log\n",
      "\n"
     ]
    },
    {
     "name": "stdout",
     "output_type": "stream",
     "text": [
      "gpt2_1 - gpt2_2: 0.9047619047619048\n",
      "gpt2_1 - gpt2_3: 0.880952380952381\n",
      "gpt2_1 - gpt2_4: 0.9047619047619048\n",
      "gpt2_1 - gpt2_5: 0.9285714285714287\n",
      "gpt2_1 - gpt2_6: 0.9047619047619048\n",
      "gpt2_1 - gpt2_7: 0.8571428571428572\n",
      "gpt2_1 - gpt2_8: 0.8571428571428572\n",
      "gpt2_1 - gpt2_9: 0.7380952380952381\n",
      "gpt2_1 - gpt2_10: 0.7380952380952381\n",
      "gpt2_1 - gpt2_11: 0.7142857142857144\n",
      "gpt2_1 - gpt2_12: nan\n",
      "gpt2_1 - bert-base-uncased_1: 0.880952380952381\n",
      "gpt2_1 - bert-base-uncased_2: 0.6190476190476191\n",
      "gpt2_1 - bert-base-uncased_3: 0.8095238095238096\n",
      "gpt2_1 - bert-base-uncased_4: 0.6190476190476191\n",
      "gpt2_1 - bert-base-uncased_5: 0.5952380952380953\n",
      "gpt2_1 - bert-base-uncased_6: 0.523809523809524\n",
      "gpt2_1 - bert-base-uncased_7: 0.4523809523809524\n",
      "gpt2_1 - bert-base-uncased_8: 0.28571428571428575\n",
      "gpt2_1 - bert-base-uncased_9: 0.0\n",
      "gpt2_1 - bert-base-uncased_10: 0.0\n",
      "gpt2_1 - bert-base-uncased_11: 0.14285714285714288\n",
      "gpt2_1 - bert-base-uncased_12: 0.04761904761904763\n",
      "gpt2_1 - mamba_1: 0.8095238095238096\n",
      "gpt2_1 - mamba_2: 0.8095238095238096\n",
      "gpt2_1 - mamba_3: 0.814385858101016\n",
      "gpt2_1 - mamba_4: 0.7664808076244857\n",
      "gpt2_1 - mamba_5: 0.790433332862751\n",
      "gpt2_1 - mamba_6: 0.6467181814331598\n",
      "gpt2_1 - mamba_7: 0.5269555552418339\n",
      "gpt2_1 - mamba_8: nan\n",
      "gpt2_1 - mamba_9: 0.4761904761904762\n",
      "gpt2_1 - mamba_10: 0.5714285714285715\n",
      "gpt2_1 - mamba_11: nan\n",
      "gpt2_1 - mamba_12: nan\n",
      "gpt2_1 - mamba_13: 0.5000000000000001\n",
      "gpt2_1 - mamba_14: nan\n",
      "gpt2_1 - mamba_15: nan\n",
      "gpt2_1 - mamba_16: nan\n",
      "gpt2_1 - mamba_17: 0.3333333333333334\n",
      "gpt2_1 - mamba_18: nan\n",
      "gpt2_1 - mamba_19: -0.09523809523809526\n",
      "gpt2_1 - mamba_20: -0.011976262619132589\n",
      "gpt2_1 - mamba_21: nan\n",
      "gpt2_1 - mamba_22: -0.011976262619132589\n",
      "gpt2_1 - mamba_23: nan\n",
      "gpt2_1 - mamba_24: 0.507346289431841\n",
      "gpt2_2 - gpt2_3: 0.9761904761904763\n",
      "gpt2_2 - gpt2_4: 1.0\n",
      "gpt2_2 - gpt2_5: 0.9761904761904763\n",
      "gpt2_2 - gpt2_6: 1.0\n",
      "gpt2_2 - gpt2_7: 0.9761904761904763\n",
      "gpt2_2 - gpt2_8: 0.9047619047619048\n",
      "gpt2_2 - gpt2_9: 0.8333333333333335\n",
      "gpt2_2 - gpt2_10: 0.8333333333333335\n",
      "gpt2_2 - gpt2_11: 0.8095238095238096\n",
      "gpt2_2 - gpt2_12: nan\n",
      "gpt2_2 - bert-base-uncased_1: 0.880952380952381\n",
      "gpt2_2 - bert-base-uncased_2: 0.4285714285714286\n",
      "gpt2_2 - bert-base-uncased_3: 0.8333333333333335\n",
      "gpt2_2 - bert-base-uncased_4: 0.7380952380952381\n",
      "gpt2_2 - bert-base-uncased_5: 0.6666666666666669\n",
      "gpt2_2 - bert-base-uncased_6: 0.7380952380952381\n",
      "gpt2_2 - bert-base-uncased_7: 0.6904761904761906\n",
      "gpt2_2 - bert-base-uncased_8: 0.5714285714285715\n",
      "gpt2_2 - bert-base-uncased_9: 0.30952380952380953\n",
      "gpt2_2 - bert-base-uncased_10: 0.30952380952380953\n",
      "gpt2_2 - bert-base-uncased_11: 0.4047619047619048\n",
      "gpt2_2 - bert-base-uncased_12: 0.3333333333333334\n",
      "gpt2_2 - mamba_1: 0.5714285714285715\n",
      "gpt2_2 - mamba_2: 0.5714285714285715\n",
      "gpt2_2 - mamba_3: 0.5389318178609664\n",
      "gpt2_2 - mamba_4: 0.5149792926227014\n",
      "gpt2_2 - mamba_5: 0.4910267673844361\n",
      "gpt2_2 - mamba_6: 0.34731161595484505\n",
      "gpt2_2 - mamba_7: 0.203596464525254\n",
      "gpt2_2 - mamba_8: nan\n",
      "gpt2_2 - mamba_9: 0.2142857142857143\n",
      "gpt2_2 - mamba_10: 0.4523809523809524\n",
      "gpt2_2 - mamba_11: nan\n",
      "gpt2_2 - mamba_12: nan\n",
      "gpt2_2 - mamba_13: 0.6190476190476191\n",
      "gpt2_2 - mamba_14: nan\n",
      "gpt2_2 - mamba_15: nan\n",
      "gpt2_2 - mamba_16: nan\n",
      "gpt2_2 - mamba_17: 0.5476190476190477\n",
      "gpt2_2 - mamba_18: nan\n",
      "gpt2_2 - mamba_19: 0.11904761904761905\n",
      "gpt2_2 - mamba_20: 0.15569141404872364\n",
      "gpt2_2 - mamba_21: nan\n",
      "gpt2_2 - mamba_22: 0.15569141404872364\n",
      "gpt2_2 - mamba_23: nan\n",
      "gpt2_2 - mamba_24: 0.6976011479687815\n",
      "gpt2_3 - gpt2_4: 0.9761904761904763\n",
      "gpt2_3 - gpt2_5: 0.9523809523809524\n",
      "gpt2_3 - gpt2_6: 0.9761904761904763\n",
      "gpt2_3 - gpt2_7: 0.9285714285714287\n",
      "gpt2_3 - gpt2_8: 0.8571428571428572\n",
      "gpt2_3 - gpt2_9: 0.8095238095238096\n",
      "gpt2_3 - gpt2_10: 0.8095238095238096\n",
      "gpt2_3 - gpt2_11: 0.8333333333333335\n",
      "gpt2_3 - gpt2_12: nan\n",
      "gpt2_3 - bert-base-uncased_1: 0.8095238095238096\n",
      "gpt2_3 - bert-base-uncased_2: 0.3571428571428572\n",
      "gpt2_3 - bert-base-uncased_3: 0.7380952380952381\n",
      "gpt2_3 - bert-base-uncased_4: 0.5952380952380953\n",
      "gpt2_3 - bert-base-uncased_5: 0.523809523809524\n",
      "gpt2_3 - bert-base-uncased_6: 0.6190476190476191\n",
      "gpt2_3 - bert-base-uncased_7: 0.5714285714285715\n",
      "gpt2_3 - bert-base-uncased_8: 0.4761904761904762\n",
      "gpt2_3 - bert-base-uncased_9: 0.28571428571428575\n",
      "gpt2_3 - bert-base-uncased_10: 0.28571428571428575\n",
      "gpt2_3 - bert-base-uncased_11: 0.4285714285714286\n",
      "gpt2_3 - bert-base-uncased_12: 0.38095238095238104\n",
      "gpt2_3 - mamba_1: 0.523809523809524\n",
      "gpt2_3 - mamba_2: 0.523809523809524\n",
      "gpt2_3 - mamba_3: 0.5149792926227014\n",
      "gpt2_3 - mamba_4: 0.467074242146171\n",
      "gpt2_3 - mamba_5: 0.467074242146171\n",
      "gpt2_3 - mamba_6: 0.4191691916696407\n",
      "gpt2_3 - mamba_7: 0.2515015150017844\n",
      "gpt2_3 - mamba_8: nan\n",
      "gpt2_3 - mamba_9: 0.261904761904762\n",
      "gpt2_3 - mamba_10: 0.5000000000000001\n",
      "gpt2_3 - mamba_11: nan\n",
      "gpt2_3 - mamba_12: nan\n",
      "gpt2_3 - mamba_13: 0.6666666666666669\n",
      "gpt2_3 - mamba_14: nan\n",
      "gpt2_3 - mamba_15: nan\n",
      "gpt2_3 - mamba_16: nan\n",
      "gpt2_3 - mamba_17: 0.6190476190476191\n",
      "gpt2_3 - mamba_18: nan\n",
      "gpt2_3 - mamba_19: 0.2142857142857143\n",
      "gpt2_3 - mamba_20: 0.22754898976351917\n",
      "gpt2_3 - mamba_21: nan\n",
      "gpt2_3 - mamba_22: 0.22754898976351917\n",
      "gpt2_3 - mamba_23: nan\n",
      "gpt2_3 - mamba_24: 0.7863867486193535\n",
      "gpt2_4 - gpt2_5: 0.9761904761904763\n",
      "gpt2_4 - gpt2_6: 1.0\n",
      "gpt2_4 - gpt2_7: 0.9761904761904763\n",
      "gpt2_4 - gpt2_8: 0.9047619047619048\n",
      "gpt2_4 - gpt2_9: 0.8333333333333335\n",
      "gpt2_4 - gpt2_10: 0.8333333333333335\n",
      "gpt2_4 - gpt2_11: 0.8095238095238096\n",
      "gpt2_4 - gpt2_12: nan\n",
      "gpt2_4 - bert-base-uncased_1: 0.880952380952381\n",
      "gpt2_4 - bert-base-uncased_2: 0.4285714285714286\n",
      "gpt2_4 - bert-base-uncased_3: 0.8333333333333335\n",
      "gpt2_4 - bert-base-uncased_4: 0.7380952380952381\n",
      "gpt2_4 - bert-base-uncased_5: 0.6666666666666669\n",
      "gpt2_4 - bert-base-uncased_6: 0.7380952380952381\n",
      "gpt2_4 - bert-base-uncased_7: 0.6904761904761906\n",
      "gpt2_4 - bert-base-uncased_8: 0.5714285714285715\n",
      "gpt2_4 - bert-base-uncased_9: 0.30952380952380953\n",
      "gpt2_4 - bert-base-uncased_10: 0.30952380952380953\n",
      "gpt2_4 - bert-base-uncased_11: 0.4047619047619048\n",
      "gpt2_4 - bert-base-uncased_12: 0.3333333333333334\n",
      "gpt2_4 - mamba_1: 0.5714285714285715\n",
      "gpt2_4 - mamba_2: 0.5714285714285715\n",
      "gpt2_4 - mamba_3: 0.5389318178609664\n",
      "gpt2_4 - mamba_4: 0.5149792926227014\n",
      "gpt2_4 - mamba_5: 0.4910267673844361\n",
      "gpt2_4 - mamba_6: 0.34731161595484505\n",
      "gpt2_4 - mamba_7: 0.203596464525254\n",
      "gpt2_4 - mamba_8: nan\n",
      "gpt2_4 - mamba_9: 0.2142857142857143\n",
      "gpt2_4 - mamba_10: 0.4523809523809524\n",
      "gpt2_4 - mamba_11: nan\n",
      "gpt2_4 - mamba_12: nan\n",
      "gpt2_4 - mamba_13: 0.6190476190476191\n",
      "gpt2_4 - mamba_14: nan\n",
      "gpt2_4 - mamba_15: nan\n",
      "gpt2_4 - mamba_16: nan\n",
      "gpt2_4 - mamba_17: 0.5476190476190477\n",
      "gpt2_4 - mamba_18: nan\n",
      "gpt2_4 - mamba_19: 0.11904761904761905\n",
      "gpt2_4 - mamba_20: 0.15569141404872364\n",
      "gpt2_4 - mamba_21: nan\n",
      "gpt2_4 - mamba_22: 0.15569141404872364\n",
      "gpt2_4 - mamba_23: nan\n",
      "gpt2_4 - mamba_24: 0.6976011479687815\n",
      "gpt2_5 - gpt2_6: 0.9761904761904763\n",
      "gpt2_5 - gpt2_7: 0.9523809523809524\n",
      "gpt2_5 - gpt2_8: 0.9523809523809524\n",
      "gpt2_5 - gpt2_9: 0.8571428571428572\n",
      "gpt2_5 - gpt2_10: 0.8571428571428572\n",
      "gpt2_5 - gpt2_11: 0.8333333333333335\n",
      "gpt2_5 - gpt2_12: nan\n",
      "gpt2_5 - bert-base-uncased_1: 0.8571428571428572\n",
      "gpt2_5 - bert-base-uncased_2: 0.4047619047619048\n",
      "gpt2_5 - bert-base-uncased_3: 0.8095238095238096\n",
      "gpt2_5 - bert-base-uncased_4: 0.7142857142857144\n",
      "gpt2_5 - bert-base-uncased_5: 0.6428571428571429\n",
      "gpt2_5 - bert-base-uncased_6: 0.6904761904761906\n",
      "gpt2_5 - bert-base-uncased_7: 0.6190476190476191\n",
      "gpt2_5 - bert-base-uncased_8: 0.4761904761904762\n",
      "gpt2_5 - bert-base-uncased_9: 0.261904761904762\n",
      "gpt2_5 - bert-base-uncased_10: 0.261904761904762\n",
      "gpt2_5 - bert-base-uncased_11: 0.3571428571428572\n",
      "gpt2_5 - bert-base-uncased_12: 0.28571428571428575\n",
      "gpt2_5 - mamba_1: 0.6190476190476191\n",
      "gpt2_5 - mamba_2: 0.6190476190476191\n",
      "gpt2_5 - mamba_3: 0.5748606057183643\n",
      "gpt2_5 - mamba_4: 0.5509080804800991\n",
      "gpt2_5 - mamba_5: 0.5509080804800991\n",
      "gpt2_5 - mamba_6: 0.407192929050508\n",
      "gpt2_5 - mamba_7: 0.26347777762091695\n",
      "gpt2_5 - mamba_8: nan\n",
      "gpt2_5 - mamba_9: 0.2380952380952381\n",
      "gpt2_5 - mamba_10: 0.4761904761904762\n",
      "gpt2_5 - mamba_11: nan\n",
      "gpt2_5 - mamba_12: nan\n",
      "gpt2_5 - mamba_13: 0.5952380952380953\n",
      "gpt2_5 - mamba_14: nan\n",
      "gpt2_5 - mamba_15: nan\n",
      "gpt2_5 - mamba_16: nan\n",
      "gpt2_5 - mamba_17: 0.5000000000000001\n",
      "gpt2_5 - mamba_18: nan\n",
      "gpt2_5 - mamba_19: 0.09523809523809526\n",
      "gpt2_5 - mamba_20: 0.1077863635721933\n",
      "gpt2_5 - mamba_21: nan\n",
      "gpt2_5 - mamba_22: 0.1077863635721933\n",
      "gpt2_5 - mamba_23: nan\n",
      "gpt2_5 - mamba_24: 0.6976011479687815\n",
      "gpt2_6 - gpt2_7: 0.9761904761904763\n",
      "gpt2_6 - gpt2_8: 0.9047619047619048\n",
      "gpt2_6 - gpt2_9: 0.8333333333333335\n",
      "gpt2_6 - gpt2_10: 0.8333333333333335\n",
      "gpt2_6 - gpt2_11: 0.8095238095238096\n",
      "gpt2_6 - gpt2_12: nan\n",
      "gpt2_6 - bert-base-uncased_1: 0.880952380952381\n",
      "gpt2_6 - bert-base-uncased_2: 0.4285714285714286\n",
      "gpt2_6 - bert-base-uncased_3: 0.8333333333333335\n",
      "gpt2_6 - bert-base-uncased_4: 0.7380952380952381\n",
      "gpt2_6 - bert-base-uncased_5: 0.6666666666666669\n",
      "gpt2_6 - bert-base-uncased_6: 0.7380952380952381\n",
      "gpt2_6 - bert-base-uncased_7: 0.6904761904761906\n",
      "gpt2_6 - bert-base-uncased_8: 0.5714285714285715\n",
      "gpt2_6 - bert-base-uncased_9: 0.30952380952380953\n",
      "gpt2_6 - bert-base-uncased_10: 0.30952380952380953\n",
      "gpt2_6 - bert-base-uncased_11: 0.4047619047619048\n",
      "gpt2_6 - bert-base-uncased_12: 0.3333333333333334\n",
      "gpt2_6 - mamba_1: 0.5714285714285715\n",
      "gpt2_6 - mamba_2: 0.5714285714285715\n",
      "gpt2_6 - mamba_3: 0.5389318178609664\n",
      "gpt2_6 - mamba_4: 0.5149792926227014\n",
      "gpt2_6 - mamba_5: 0.4910267673844361\n",
      "gpt2_6 - mamba_6: 0.34731161595484505\n",
      "gpt2_6 - mamba_7: 0.203596464525254\n",
      "gpt2_6 - mamba_8: nan\n",
      "gpt2_6 - mamba_9: 0.2142857142857143\n",
      "gpt2_6 - mamba_10: 0.4523809523809524\n",
      "gpt2_6 - mamba_11: nan\n",
      "gpt2_6 - mamba_12: nan\n",
      "gpt2_6 - mamba_13: 0.6190476190476191\n",
      "gpt2_6 - mamba_14: nan\n",
      "gpt2_6 - mamba_15: nan\n",
      "gpt2_6 - mamba_16: nan\n",
      "gpt2_6 - mamba_17: 0.5476190476190477\n",
      "gpt2_6 - mamba_18: nan\n",
      "gpt2_6 - mamba_19: 0.11904761904761905\n",
      "gpt2_6 - mamba_20: 0.15569141404872364\n",
      "gpt2_6 - mamba_21: nan\n",
      "gpt2_6 - mamba_22: 0.15569141404872364\n",
      "gpt2_6 - mamba_23: nan\n",
      "gpt2_6 - mamba_24: 0.6976011479687815\n",
      "gpt2_7 - gpt2_8: 0.9285714285714287\n",
      "gpt2_7 - gpt2_9: 0.880952380952381\n",
      "gpt2_7 - gpt2_10: 0.880952380952381\n",
      "gpt2_7 - gpt2_11: 0.8333333333333335\n",
      "gpt2_7 - gpt2_12: nan\n",
      "gpt2_7 - bert-base-uncased_1: 0.9285714285714287\n",
      "gpt2_7 - bert-base-uncased_2: 0.4761904761904762\n",
      "gpt2_7 - bert-base-uncased_3: 0.9047619047619048\n",
      "gpt2_7 - bert-base-uncased_4: 0.8333333333333335\n",
      "gpt2_7 - bert-base-uncased_5: 0.7857142857142858\n",
      "gpt2_7 - bert-base-uncased_6: 0.8333333333333335\n",
      "gpt2_7 - bert-base-uncased_7: 0.7619047619047621\n",
      "gpt2_7 - bert-base-uncased_8: 0.6190476190476191\n",
      "gpt2_7 - bert-base-uncased_9: 0.4047619047619048\n",
      "gpt2_7 - bert-base-uncased_10: 0.4047619047619048\n",
      "gpt2_7 - bert-base-uncased_11: 0.4523809523809524\n",
      "gpt2_7 - bert-base-uncased_12: 0.38095238095238104\n",
      "gpt2_7 - mamba_1: 0.5952380952380953\n",
      "gpt2_7 - mamba_2: 0.5952380952380953\n",
      "gpt2_7 - mamba_3: 0.5149792926227014\n",
      "gpt2_7 - mamba_4: 0.5389318178609664\n",
      "gpt2_7 - mamba_5: 0.467074242146171\n",
      "gpt2_7 - mamba_6: 0.29940656547831473\n",
      "gpt2_7 - mamba_7: 0.17964393928698885\n",
      "gpt2_7 - mamba_8: nan\n",
      "gpt2_7 - mamba_9: 0.19047619047619052\n",
      "gpt2_7 - mamba_10: 0.4285714285714286\n",
      "gpt2_7 - mamba_11: nan\n",
      "gpt2_7 - mamba_12: nan\n",
      "gpt2_7 - mamba_13: 0.5952380952380953\n",
      "gpt2_7 - mamba_14: nan\n",
      "gpt2_7 - mamba_15: nan\n",
      "gpt2_7 - mamba_16: nan\n",
      "gpt2_7 - mamba_17: 0.5714285714285715\n",
      "gpt2_7 - mamba_18: nan\n",
      "gpt2_7 - mamba_19: 0.14285714285714288\n",
      "gpt2_7 - mamba_20: 0.13173888881045848\n",
      "gpt2_7 - mamba_21: nan\n",
      "gpt2_7 - mamba_22: 0.13173888881045848\n",
      "gpt2_7 - mamba_23: nan\n",
      "gpt2_7 - mamba_24: 0.6088155473182092\n",
      "gpt2_8 - gpt2_9: 0.9523809523809524\n",
      "gpt2_8 - gpt2_10: 0.9523809523809524\n",
      "gpt2_8 - gpt2_11: 0.9047619047619048\n",
      "gpt2_8 - gpt2_12: nan\n",
      "gpt2_8 - bert-base-uncased_1: 0.8571428571428572\n",
      "gpt2_8 - bert-base-uncased_2: 0.38095238095238104\n",
      "gpt2_8 - bert-base-uncased_3: 0.8095238095238096\n",
      "gpt2_8 - bert-base-uncased_4: 0.7619047619047621\n",
      "gpt2_8 - bert-base-uncased_5: 0.7142857142857144\n",
      "gpt2_8 - bert-base-uncased_6: 0.7619047619047621\n",
      "gpt2_8 - bert-base-uncased_7: 0.6666666666666669\n",
      "gpt2_8 - bert-base-uncased_8: 0.4761904761904762\n",
      "gpt2_8 - bert-base-uncased_9: 0.38095238095238104\n",
      "gpt2_8 - bert-base-uncased_10: 0.38095238095238104\n",
      "gpt2_8 - bert-base-uncased_11: 0.4761904761904762\n",
      "gpt2_8 - bert-base-uncased_12: 0.38095238095238104\n",
      "gpt2_8 - mamba_1: 0.6190476190476191\n",
      "gpt2_8 - mamba_2: 0.6190476190476191\n",
      "gpt2_8 - mamba_3: 0.5269555552418339\n",
      "gpt2_8 - mamba_4: 0.5509080804800991\n",
      "gpt2_8 - mamba_5: 0.5509080804800991\n",
      "gpt2_8 - mamba_6: 0.38324040381224284\n",
      "gpt2_8 - mamba_7: 0.26347777762091695\n",
      "gpt2_8 - mamba_8: nan\n",
      "gpt2_8 - mamba_9: 0.28571428571428575\n",
      "gpt2_8 - mamba_10: 0.5000000000000001\n",
      "gpt2_8 - mamba_11: nan\n",
      "gpt2_8 - mamba_12: nan\n",
      "gpt2_8 - mamba_13: 0.5952380952380953\n",
      "gpt2_8 - mamba_14: nan\n",
      "gpt2_8 - mamba_15: nan\n",
      "gpt2_8 - mamba_16: nan\n",
      "gpt2_8 - mamba_17: 0.5476190476190477\n",
      "gpt2_8 - mamba_18: nan\n",
      "gpt2_8 - mamba_19: 0.19047619047619052\n",
      "gpt2_8 - mamba_20: 0.1197626261913259\n",
      "gpt2_8 - mamba_21: nan\n",
      "gpt2_8 - mamba_22: 0.1197626261913259\n",
      "gpt2_8 - mamba_23: nan\n",
      "gpt2_8 - mamba_24: 0.5453972611392292\n",
      "gpt2_9 - gpt2_10: 1.0\n",
      "gpt2_9 - gpt2_11: 0.9761904761904763\n",
      "gpt2_9 - gpt2_12: nan\n",
      "gpt2_9 - bert-base-uncased_1: 0.8095238095238096\n",
      "gpt2_9 - bert-base-uncased_2: 0.30952380952380953\n",
      "gpt2_9 - bert-base-uncased_3: 0.7380952380952381\n",
      "gpt2_9 - bert-base-uncased_4: 0.6904761904761906\n",
      "gpt2_9 - bert-base-uncased_5: 0.6666666666666669\n",
      "gpt2_9 - bert-base-uncased_6: 0.7619047619047621\n",
      "gpt2_9 - bert-base-uncased_7: 0.6666666666666669\n",
      "gpt2_9 - bert-base-uncased_8: 0.4761904761904762\n",
      "gpt2_9 - bert-base-uncased_9: 0.523809523809524\n",
      "gpt2_9 - bert-base-uncased_10: 0.523809523809524\n",
      "gpt2_9 - bert-base-uncased_11: 0.6666666666666669\n",
      "gpt2_9 - bert-base-uncased_12: 0.5714285714285715\n",
      "gpt2_9 - mamba_1: 0.523809523809524\n",
      "gpt2_9 - mamba_2: 0.523809523809524\n",
      "gpt2_9 - mamba_3: 0.4191691916696407\n",
      "gpt2_9 - mamba_4: 0.467074242146171\n",
      "gpt2_9 - mamba_5: 0.467074242146171\n",
      "gpt2_9 - mamba_6: 0.37126414119311024\n",
      "gpt2_9 - mamba_7: 0.2515015150017844\n",
      "gpt2_9 - mamba_8: nan\n",
      "gpt2_9 - mamba_9: 0.3571428571428572\n",
      "gpt2_9 - mamba_10: 0.5476190476190477\n",
      "gpt2_9 - mamba_11: nan\n",
      "gpt2_9 - mamba_12: nan\n",
      "gpt2_9 - mamba_13: 0.6666666666666669\n",
      "gpt2_9 - mamba_14: nan\n",
      "gpt2_9 - mamba_15: nan\n",
      "gpt2_9 - mamba_16: nan\n",
      "gpt2_9 - mamba_17: 0.7142857142857144\n",
      "gpt2_9 - mamba_18: nan\n",
      "gpt2_9 - mamba_19: 0.4047619047619048\n",
      "gpt2_9 - mamba_20: 0.2515015150017844\n",
      "gpt2_9 - mamba_21: nan\n",
      "gpt2_9 - mamba_22: 0.2515015150017844\n",
      "gpt2_9 - mamba_23: nan\n",
      "gpt2_9 - mamba_24: 0.48197897496024894\n",
      "gpt2_10 - gpt2_11: 0.9761904761904763\n",
      "gpt2_10 - gpt2_12: nan\n",
      "gpt2_10 - bert-base-uncased_1: 0.8095238095238096\n",
      "gpt2_10 - bert-base-uncased_2: 0.30952380952380953\n",
      "gpt2_10 - bert-base-uncased_3: 0.7380952380952381\n",
      "gpt2_10 - bert-base-uncased_4: 0.6904761904761906\n",
      "gpt2_10 - bert-base-uncased_5: 0.6666666666666669\n",
      "gpt2_10 - bert-base-uncased_6: 0.7619047619047621\n",
      "gpt2_10 - bert-base-uncased_7: 0.6666666666666669\n",
      "gpt2_10 - bert-base-uncased_8: 0.4761904761904762\n",
      "gpt2_10 - bert-base-uncased_9: 0.523809523809524\n",
      "gpt2_10 - bert-base-uncased_10: 0.523809523809524\n",
      "gpt2_10 - bert-base-uncased_11: 0.6666666666666669\n",
      "gpt2_10 - bert-base-uncased_12: 0.5714285714285715\n",
      "gpt2_10 - mamba_1: 0.523809523809524\n",
      "gpt2_10 - mamba_2: 0.523809523809524\n",
      "gpt2_10 - mamba_3: 0.4191691916696407\n",
      "gpt2_10 - mamba_4: 0.467074242146171\n",
      "gpt2_10 - mamba_5: 0.467074242146171\n",
      "gpt2_10 - mamba_6: 0.37126414119311024\n",
      "gpt2_10 - mamba_7: 0.2515015150017844\n",
      "gpt2_10 - mamba_8: nan\n",
      "gpt2_10 - mamba_9: 0.3571428571428572\n",
      "gpt2_10 - mamba_10: 0.5476190476190477\n",
      "gpt2_10 - mamba_11: nan\n",
      "gpt2_10 - mamba_12: nan\n",
      "gpt2_10 - mamba_13: 0.6666666666666669\n",
      "gpt2_10 - mamba_14: nan\n",
      "gpt2_10 - mamba_15: nan\n",
      "gpt2_10 - mamba_16: nan\n",
      "gpt2_10 - mamba_17: 0.7142857142857144\n",
      "gpt2_10 - mamba_18: nan\n",
      "gpt2_10 - mamba_19: 0.4047619047619048\n",
      "gpt2_10 - mamba_20: 0.2515015150017844\n",
      "gpt2_10 - mamba_21: nan\n",
      "gpt2_10 - mamba_22: 0.2515015150017844\n",
      "gpt2_10 - mamba_23: nan\n",
      "gpt2_10 - mamba_24: 0.48197897496024894\n",
      "gpt2_11 - gpt2_12: nan\n",
      "gpt2_11 - bert-base-uncased_1: 0.7380952380952381\n",
      "gpt2_11 - bert-base-uncased_2: 0.2380952380952381\n",
      "gpt2_11 - bert-base-uncased_3: 0.6428571428571429\n",
      "gpt2_11 - bert-base-uncased_4: 0.5476190476190477\n",
      "gpt2_11 - bert-base-uncased_5: 0.523809523809524\n",
      "gpt2_11 - bert-base-uncased_6: 0.6428571428571429\n",
      "gpt2_11 - bert-base-uncased_7: 0.5476190476190477\n",
      "gpt2_11 - bert-base-uncased_8: 0.38095238095238104\n",
      "gpt2_11 - bert-base-uncased_9: 0.5000000000000001\n",
      "gpt2_11 - bert-base-uncased_10: 0.5000000000000001\n",
      "gpt2_11 - bert-base-uncased_11: 0.6904761904761906\n",
      "gpt2_11 - bert-base-uncased_12: 0.6190476190476191\n",
      "gpt2_11 - mamba_1: 0.4761904761904762\n",
      "gpt2_11 - mamba_2: 0.4761904761904762\n",
      "gpt2_11 - mamba_3: 0.3952166664313755\n",
      "gpt2_11 - mamba_4: 0.4191691916696407\n",
      "gpt2_11 - mamba_5: 0.4431217169079058\n",
      "gpt2_11 - mamba_6: 0.4431217169079058\n",
      "gpt2_11 - mamba_7: 0.29940656547831473\n",
      "gpt2_11 - mamba_8: nan\n",
      "gpt2_11 - mamba_9: 0.4047619047619048\n",
      "gpt2_11 - mamba_10: 0.5952380952380953\n",
      "gpt2_11 - mamba_11: nan\n",
      "gpt2_11 - mamba_12: nan\n",
      "gpt2_11 - mamba_13: 0.7142857142857144\n",
      "gpt2_11 - mamba_14: nan\n",
      "gpt2_11 - mamba_15: nan\n",
      "gpt2_11 - mamba_16: nan\n",
      "gpt2_11 - mamba_17: 0.7857142857142858\n",
      "gpt2_11 - mamba_18: nan\n",
      "gpt2_11 - mamba_19: 0.5000000000000001\n",
      "gpt2_11 - mamba_20: 0.3233590907165799\n",
      "gpt2_11 - mamba_21: nan\n",
      "gpt2_11 - mamba_22: 0.3233590907165799\n",
      "gpt2_11 - mamba_23: nan\n",
      "gpt2_11 - mamba_24: 0.5707645756108212\n",
      "gpt2_12 - bert-base-uncased_1: nan\n",
      "gpt2_12 - bert-base-uncased_2: nan\n",
      "gpt2_12 - bert-base-uncased_3: nan\n",
      "gpt2_12 - bert-base-uncased_4: nan\n",
      "gpt2_12 - bert-base-uncased_5: nan\n",
      "gpt2_12 - bert-base-uncased_6: nan\n",
      "gpt2_12 - bert-base-uncased_7: nan\n",
      "gpt2_12 - bert-base-uncased_8: nan\n",
      "gpt2_12 - bert-base-uncased_9: nan\n",
      "gpt2_12 - bert-base-uncased_10: nan\n",
      "gpt2_12 - bert-base-uncased_11: nan\n",
      "gpt2_12 - bert-base-uncased_12: nan\n",
      "gpt2_12 - mamba_1: nan\n",
      "gpt2_12 - mamba_2: nan\n",
      "gpt2_12 - mamba_3: nan\n",
      "gpt2_12 - mamba_4: nan\n",
      "gpt2_12 - mamba_5: nan\n",
      "gpt2_12 - mamba_6: nan\n",
      "gpt2_12 - mamba_7: nan\n",
      "gpt2_12 - mamba_8: nan\n",
      "gpt2_12 - mamba_9: nan\n",
      "gpt2_12 - mamba_10: nan\n",
      "gpt2_12 - mamba_11: nan\n",
      "gpt2_12 - mamba_12: nan\n",
      "gpt2_12 - mamba_13: nan\n",
      "gpt2_12 - mamba_14: nan\n",
      "gpt2_12 - mamba_15: nan\n",
      "gpt2_12 - mamba_16: nan\n",
      "gpt2_12 - mamba_17: nan\n",
      "gpt2_12 - mamba_18: nan\n",
      "gpt2_12 - mamba_19: nan\n",
      "gpt2_12 - mamba_20: nan\n",
      "gpt2_12 - mamba_21: nan\n",
      "gpt2_12 - mamba_22: nan\n",
      "gpt2_12 - mamba_23: nan\n",
      "gpt2_12 - mamba_24: nan\n",
      "bert-base-uncased_1 - bert-base-uncased_2: 0.7380952380952381\n",
      "bert-base-uncased_1 - bert-base-uncased_3: 0.9761904761904763\n",
      "bert-base-uncased_1 - bert-base-uncased_4: 0.8333333333333335\n",
      "bert-base-uncased_1 - bert-base-uncased_5: 0.8571428571428572\n",
      "bert-base-uncased_1 - bert-base-uncased_6: 0.7619047619047621\n",
      "bert-base-uncased_1 - bert-base-uncased_7: 0.6666666666666669\n",
      "bert-base-uncased_1 - bert-base-uncased_8: 0.4761904761904762\n",
      "bert-base-uncased_1 - bert-base-uncased_9: 0.2380952380952381\n",
      "bert-base-uncased_1 - bert-base-uncased_10: 0.2380952380952381\n",
      "bert-base-uncased_1 - bert-base-uncased_11: 0.28571428571428575\n",
      "bert-base-uncased_1 - bert-base-uncased_12: 0.19047619047619052\n",
      "bert-base-uncased_1 - mamba_1: 0.8095238095238096\n",
      "bert-base-uncased_1 - mamba_2: 0.8095238095238096\n",
      "bert-base-uncased_1 - mamba_3: 0.730552019767088\n",
      "bert-base-uncased_1 - mamba_4: 0.7784570702436182\n",
      "bert-base-uncased_1 - mamba_5: 0.6826469692905576\n",
      "bert-base-uncased_1 - mamba_6: 0.4910267673844361\n",
      "bert-base-uncased_1 - mamba_7: 0.4191691916696407\n",
      "bert-base-uncased_1 - mamba_8: nan\n",
      "bert-base-uncased_1 - mamba_9: 0.4047619047619048\n",
      "bert-base-uncased_1 - mamba_10: 0.5000000000000001\n",
      "bert-base-uncased_1 - mamba_11: nan\n",
      "bert-base-uncased_1 - mamba_12: nan\n",
      "bert-base-uncased_1 - mamba_13: 0.4761904761904762\n",
      "bert-base-uncased_1 - mamba_14: nan\n",
      "bert-base-uncased_1 - mamba_15: nan\n",
      "bert-base-uncased_1 - mamba_16: nan\n",
      "bert-base-uncased_1 - mamba_17: 0.4285714285714286\n",
      "bert-base-uncased_1 - mamba_18: nan\n",
      "bert-base-uncased_1 - mamba_19: -0.023809523809523815\n",
      "bert-base-uncased_1 - mamba_20: -0.011976262619132589\n",
      "bert-base-uncased_1 - mamba_21: nan\n",
      "bert-base-uncased_1 - mamba_22: -0.011976262619132589\n",
      "bert-base-uncased_1 - mamba_23: nan\n",
      "bert-base-uncased_1 - mamba_24: 0.32977508813069667\n",
      "bert-base-uncased_2 - bert-base-uncased_3: 0.7619047619047621\n",
      "bert-base-uncased_2 - bert-base-uncased_4: 0.5714285714285715\n",
      "bert-base-uncased_2 - bert-base-uncased_5: 0.6904761904761906\n",
      "bert-base-uncased_2 - bert-base-uncased_6: 0.38095238095238104\n",
      "bert-base-uncased_2 - bert-base-uncased_7: 0.30952380952380953\n",
      "bert-base-uncased_2 - bert-base-uncased_8: 0.19047619047619052\n",
      "bert-base-uncased_2 - bert-base-uncased_9: -0.04761904761904763\n",
      "bert-base-uncased_2 - bert-base-uncased_10: -0.04761904761904763\n",
      "bert-base-uncased_2 - bert-base-uncased_11: -0.09523809523809526\n",
      "bert-base-uncased_2 - bert-base-uncased_12: -0.14285714285714288\n",
      "bert-base-uncased_2 - mamba_1: 0.9047619047619048\n",
      "bert-base-uncased_2 - mamba_2: 0.9047619047619048\n",
      "bert-base-uncased_2 - mamba_3: 0.8862434338158116\n",
      "bert-base-uncased_2 - mamba_4: 0.934148484292342\n",
      "bert-base-uncased_2 - mamba_5: 0.814385858101016\n",
      "bert-base-uncased_2 - mamba_6: 0.6227656561948945\n",
      "bert-base-uncased_2 - mamba_7: 0.5509080804800991\n",
      "bert-base-uncased_2 - mamba_8: nan\n",
      "bert-base-uncased_2 - mamba_9: 0.4285714285714286\n",
      "bert-base-uncased_2 - mamba_10: 0.19047619047619052\n",
      "bert-base-uncased_2 - mamba_11: nan\n",
      "bert-base-uncased_2 - mamba_12: nan\n",
      "bert-base-uncased_2 - mamba_13: -0.11904761904761905\n",
      "bert-base-uncased_2 - mamba_14: nan\n",
      "bert-base-uncased_2 - mamba_15: nan\n",
      "bert-base-uncased_2 - mamba_16: nan\n",
      "bert-base-uncased_2 - mamba_17: -0.14285714285714288\n",
      "bert-base-uncased_2 - mamba_18: nan\n",
      "bert-base-uncased_2 - mamba_19: -0.523809523809524\n",
      "bert-base-uncased_2 - mamba_20: -0.5149792926227014\n",
      "bert-base-uncased_2 - mamba_21: nan\n",
      "bert-base-uncased_2 - mamba_22: -0.5149792926227014\n",
      "bert-base-uncased_2 - mamba_23: nan\n",
      "bert-base-uncased_2 - mamba_24: -0.10146925788636822\n",
      "bert-base-uncased_3 - bert-base-uncased_4: 0.9047619047619048\n",
      "bert-base-uncased_3 - bert-base-uncased_5: 0.9285714285714287\n",
      "bert-base-uncased_3 - bert-base-uncased_6: 0.8095238095238096\n",
      "bert-base-uncased_3 - bert-base-uncased_7: 0.7142857142857144\n",
      "bert-base-uncased_3 - bert-base-uncased_8: 0.5476190476190477\n",
      "bert-base-uncased_3 - bert-base-uncased_9: 0.28571428571428575\n",
      "bert-base-uncased_3 - bert-base-uncased_10: 0.28571428571428575\n",
      "bert-base-uncased_3 - bert-base-uncased_11: 0.2380952380952381\n",
      "bert-base-uncased_3 - bert-base-uncased_12: 0.1666666666666667\n",
      "bert-base-uncased_3 - mamba_1: 0.7857142857142858\n",
      "bert-base-uncased_3 - mamba_2: 0.7857142857142858\n",
      "bert-base-uncased_3 - mamba_3: 0.6826469692905576\n",
      "bert-base-uncased_3 - mamba_4: 0.7545045450053531\n",
      "bert-base-uncased_3 - mamba_5: 0.6107893935757621\n",
      "bert-base-uncased_3 - mamba_6: 0.37126414119311024\n",
      "bert-base-uncased_3 - mamba_7: 0.29940656547831473\n",
      "bert-base-uncased_3 - mamba_8: nan\n",
      "bert-base-uncased_3 - mamba_9: 0.2380952380952381\n",
      "bert-base-uncased_3 - mamba_10: 0.3333333333333334\n",
      "bert-base-uncased_3 - mamba_11: nan\n",
      "bert-base-uncased_3 - mamba_12: nan\n",
      "bert-base-uncased_3 - mamba_13: 0.3333333333333334\n",
      "bert-base-uncased_3 - mamba_14: nan\n",
      "bert-base-uncased_3 - mamba_15: nan\n",
      "bert-base-uncased_3 - mamba_16: nan\n",
      "bert-base-uncased_3 - mamba_17: 0.30952380952380953\n",
      "bert-base-uncased_3 - mamba_18: nan\n",
      "bert-base-uncased_3 - mamba_19: -0.14285714285714288\n",
      "bert-base-uncased_3 - mamba_20: -0.14371515142959107\n",
      "bert-base-uncased_3 - mamba_21: nan\n",
      "bert-base-uncased_3 - mamba_22: -0.14371515142959107\n",
      "bert-base-uncased_3 - mamba_23: nan\n",
      "bert-base-uncased_3 - mamba_24: 0.3044077736591046\n",
      "bert-base-uncased_4 - bert-base-uncased_5: 0.9761904761904763\n",
      "bert-base-uncased_4 - bert-base-uncased_6: 0.9523809523809524\n",
      "bert-base-uncased_4 - bert-base-uncased_7: 0.9047619047619048\n",
      "bert-base-uncased_4 - bert-base-uncased_8: 0.7857142857142858\n",
      "bert-base-uncased_4 - bert-base-uncased_9: 0.523809523809524\n",
      "bert-base-uncased_4 - bert-base-uncased_10: 0.523809523809524\n",
      "bert-base-uncased_4 - bert-base-uncased_11: 0.38095238095238104\n",
      "bert-base-uncased_4 - bert-base-uncased_12: 0.30952380952380953\n",
      "bert-base-uncased_4 - mamba_1: 0.5476190476190477\n",
      "bert-base-uncased_4 - mamba_2: 0.5476190476190477\n",
      "bert-base-uncased_4 - mamba_3: 0.4191691916696407\n",
      "bert-base-uncased_4 - mamba_4: 0.5149792926227014\n",
      "bert-base-uncased_4 - mamba_5: 0.37126414119311024\n",
      "bert-base-uncased_4 - mamba_6: 0.011976262619132589\n",
      "bert-base-uncased_4 - mamba_7: -0.08383383833392813\n",
      "bert-base-uncased_4 - mamba_8: nan\n",
      "bert-base-uncased_4 - mamba_9: -0.09523809523809526\n",
      "bert-base-uncased_4 - mamba_10: 0.023809523809523815\n",
      "bert-base-uncased_4 - mamba_11: nan\n",
      "bert-base-uncased_4 - mamba_12: nan\n",
      "bert-base-uncased_4 - mamba_13: 0.1666666666666667\n",
      "bert-base-uncased_4 - mamba_14: nan\n",
      "bert-base-uncased_4 - mamba_15: nan\n",
      "bert-base-uncased_4 - mamba_16: nan\n",
      "bert-base-uncased_4 - mamba_17: 0.19047619047619052\n",
      "bert-base-uncased_4 - mamba_18: nan\n",
      "bert-base-uncased_4 - mamba_19: -0.19047619047619052\n",
      "bert-base-uncased_4 - mamba_20: -0.2395252523826518\n",
      "bert-base-uncased_4 - mamba_21: nan\n",
      "bert-base-uncased_4 - mamba_22: -0.2395252523826518\n",
      "bert-base-uncased_4 - mamba_23: nan\n",
      "bert-base-uncased_4 - mamba_24: 0.26635680195171657\n",
      "bert-base-uncased_5 - bert-base-uncased_6: 0.9047619047619048\n",
      "bert-base-uncased_5 - bert-base-uncased_7: 0.8333333333333335\n",
      "bert-base-uncased_5 - bert-base-uncased_8: 0.6904761904761906\n",
      "bert-base-uncased_5 - bert-base-uncased_9: 0.4761904761904762\n",
      "bert-base-uncased_5 - bert-base-uncased_10: 0.4761904761904762\n",
      "bert-base-uncased_5 - bert-base-uncased_11: 0.3333333333333334\n",
      "bert-base-uncased_5 - bert-base-uncased_12: 0.261904761904762\n",
      "bert-base-uncased_5 - mamba_1: 0.6428571428571429\n",
      "bert-base-uncased_5 - mamba_2: 0.6428571428571429\n",
      "bert-base-uncased_5 - mamba_3: 0.5030030300035688\n",
      "bert-base-uncased_5 - mamba_4: 0.6227656561948945\n",
      "bert-base-uncased_5 - mamba_5: 0.45509797952703834\n",
      "bert-base-uncased_5 - mamba_6: 0.1197626261913259\n",
      "bert-base-uncased_5 - mamba_7: 0.047905050476530354\n",
      "bert-base-uncased_5 - mamba_8: nan\n",
      "bert-base-uncased_5 - mamba_9: 0.023809523809523815\n",
      "bert-base-uncased_5 - mamba_10: 0.07142857142857144\n",
      "bert-base-uncased_5 - mamba_11: nan\n",
      "bert-base-uncased_5 - mamba_12: nan\n",
      "bert-base-uncased_5 - mamba_13: 0.11904761904761905\n",
      "bert-base-uncased_5 - mamba_14: nan\n",
      "bert-base-uncased_5 - mamba_15: nan\n",
      "bert-base-uncased_5 - mamba_16: nan\n",
      "bert-base-uncased_5 - mamba_17: 0.1666666666666667\n",
      "bert-base-uncased_5 - mamba_18: nan\n",
      "bert-base-uncased_5 - mamba_19: -0.2142857142857143\n",
      "bert-base-uncased_5 - mamba_20: -0.28743030285918214\n",
      "bert-base-uncased_5 - mamba_21: nan\n",
      "bert-base-uncased_5 - mamba_22: -0.28743030285918214\n",
      "bert-base-uncased_5 - mamba_23: nan\n",
      "bert-base-uncased_5 - mamba_24: 0.12683657235796025\n",
      "bert-base-uncased_6 - bert-base-uncased_7: 0.9761904761904763\n",
      "bert-base-uncased_6 - bert-base-uncased_8: 0.880952380952381\n",
      "bert-base-uncased_6 - bert-base-uncased_9: 0.7142857142857144\n",
      "bert-base-uncased_6 - bert-base-uncased_10: 0.7142857142857144\n",
      "bert-base-uncased_6 - bert-base-uncased_11: 0.6190476190476191\n",
      "bert-base-uncased_6 - bert-base-uncased_12: 0.5476190476190477\n",
      "bert-base-uncased_6 - mamba_1: 0.3571428571428572\n",
      "bert-base-uncased_6 - mamba_2: 0.3571428571428572\n",
      "bert-base-uncased_6 - mamba_3: 0.22754898976351917\n",
      "bert-base-uncased_6 - mamba_4: 0.3233590907165799\n",
      "bert-base-uncased_6 - mamba_5: 0.203596464525254\n",
      "bert-base-uncased_6 - mamba_6: -0.1077863635721933\n",
      "bert-base-uncased_6 - mamba_7: -0.22754898976351917\n",
      "bert-base-uncased_6 - mamba_8: nan\n",
      "bert-base-uncased_6 - mamba_9: -0.14285714285714288\n",
      "bert-base-uncased_6 - mamba_10: 0.023809523809523815\n",
      "bert-base-uncased_6 - mamba_11: nan\n",
      "bert-base-uncased_6 - mamba_12: nan\n",
      "bert-base-uncased_6 - mamba_13: 0.28571428571428575\n",
      "bert-base-uncased_6 - mamba_14: nan\n",
      "bert-base-uncased_6 - mamba_15: nan\n",
      "bert-base-uncased_6 - mamba_16: nan\n",
      "bert-base-uncased_6 - mamba_17: 0.38095238095238104\n",
      "bert-base-uncased_6 - mamba_18: nan\n",
      "bert-base-uncased_6 - mamba_19: 0.04761904761904763\n",
      "bert-base-uncased_6 - mamba_20: -0.05988131309566295\n",
      "bert-base-uncased_6 - mamba_21: nan\n",
      "bert-base-uncased_6 - mamba_22: -0.05988131309566295\n",
      "bert-base-uncased_6 - mamba_23: nan\n",
      "bert-base-uncased_6 - mamba_24: 0.3424587453664927\n",
      "bert-base-uncased_7 - bert-base-uncased_8: 0.9523809523809524\n",
      "bert-base-uncased_7 - bert-base-uncased_9: 0.7380952380952381\n",
      "bert-base-uncased_7 - bert-base-uncased_10: 0.7380952380952381\n",
      "bert-base-uncased_7 - bert-base-uncased_11: 0.6428571428571429\n",
      "bert-base-uncased_7 - bert-base-uncased_12: 0.5714285714285715\n",
      "bert-base-uncased_7 - mamba_1: 0.2380952380952381\n",
      "bert-base-uncased_7 - mamba_2: 0.2380952380952381\n",
      "bert-base-uncased_7 - mamba_3: 0.14371515142959107\n",
      "bert-base-uncased_7 - mamba_4: 0.2155727271443866\n",
      "bert-base-uncased_7 - mamba_5: 0.1197626261913259\n",
      "bert-base-uncased_7 - mamba_6: -0.2155727271443866\n",
      "bert-base-uncased_7 - mamba_7: -0.3592878785739777\n",
      "bert-base-uncased_7 - mamba_8: nan\n",
      "bert-base-uncased_7 - mamba_9: -0.2380952380952381\n",
      "bert-base-uncased_7 - mamba_10: -0.09523809523809526\n",
      "bert-base-uncased_7 - mamba_11: nan\n",
      "bert-base-uncased_7 - mamba_12: nan\n",
      "bert-base-uncased_7 - mamba_13: 0.2142857142857143\n",
      "bert-base-uncased_7 - mamba_14: nan\n",
      "bert-base-uncased_7 - mamba_15: nan\n",
      "bert-base-uncased_7 - mamba_16: nan\n",
      "bert-base-uncased_7 - mamba_17: 0.30952380952380953\n",
      "bert-base-uncased_7 - mamba_18: nan\n",
      "bert-base-uncased_7 - mamba_19: 0.0\n",
      "bert-base-uncased_7 - mamba_20: -0.08383383833392813\n",
      "bert-base-uncased_7 - mamba_21: nan\n",
      "bert-base-uncased_7 - mamba_22: -0.08383383833392813\n",
      "bert-base-uncased_7 - mamba_23: nan\n",
      "bert-base-uncased_7 - mamba_24: 0.3424587453664927\n",
      "bert-base-uncased_8 - bert-base-uncased_9: 0.7857142857142858\n",
      "bert-base-uncased_8 - bert-base-uncased_10: 0.7857142857142858\n",
      "bert-base-uncased_8 - bert-base-uncased_11: 0.6428571428571429\n",
      "bert-base-uncased_8 - bert-base-uncased_12: 0.6190476190476191\n",
      "bert-base-uncased_8 - mamba_1: 0.04761904761904763\n",
      "bert-base-uncased_8 - mamba_2: 0.04761904761904763\n",
      "bert-base-uncased_8 - mamba_3: -0.011976262619132589\n",
      "bert-base-uncased_8 - mamba_4: 0.03592878785739777\n",
      "bert-base-uncased_8 - mamba_5: -0.05988131309566295\n",
      "bert-base-uncased_8 - mamba_6: -0.37126414119311024\n",
      "bert-base-uncased_8 - mamba_7: -0.5628843430992317\n",
      "bert-base-uncased_8 - mamba_8: nan\n",
      "bert-base-uncased_8 - mamba_9: -0.4523809523809524\n",
      "bert-base-uncased_8 - mamba_10: -0.3333333333333334\n",
      "bert-base-uncased_8 - mamba_11: nan\n",
      "bert-base-uncased_8 - mamba_12: nan\n",
      "bert-base-uncased_8 - mamba_13: 0.04761904761904763\n",
      "bert-base-uncased_8 - mamba_14: nan\n",
      "bert-base-uncased_8 - mamba_15: nan\n",
      "bert-base-uncased_8 - mamba_16: nan\n",
      "bert-base-uncased_8 - mamba_17: 0.19047619047619052\n",
      "bert-base-uncased_8 - mamba_18: nan\n",
      "bert-base-uncased_8 - mamba_19: -0.07142857142857144\n",
      "bert-base-uncased_8 - mamba_20: -0.16766767666785626\n",
      "bert-base-uncased_8 - mamba_21: nan\n",
      "bert-base-uncased_8 - mamba_22: -0.16766767666785626\n",
      "bert-base-uncased_8 - mamba_23: nan\n",
      "bert-base-uncased_8 - mamba_24: 0.4058770315454729\n",
      "bert-base-uncased_9 - bert-base-uncased_10: 1.0\n",
      "bert-base-uncased_9 - bert-base-uncased_11: 0.9047619047619048\n",
      "bert-base-uncased_9 - bert-base-uncased_12: 0.9285714285714287\n",
      "bert-base-uncased_9 - mamba_1: -0.11904761904761905\n",
      "bert-base-uncased_9 - mamba_2: -0.11904761904761905\n",
      "bert-base-uncased_9 - mamba_3: -0.22754898976351917\n",
      "bert-base-uncased_9 - mamba_4: -0.13173888881045848\n",
      "bert-base-uncased_9 - mamba_5: -0.203596464525254\n",
      "bert-base-uncased_9 - mamba_6: -0.3233590907165799\n",
      "bert-base-uncased_9 - mamba_7: -0.5389318178609664\n",
      "bert-base-uncased_9 - mamba_8: nan\n",
      "bert-base-uncased_9 - mamba_9: -0.38095238095238104\n",
      "bert-base-uncased_9 - mamba_10: -0.30952380952380953\n",
      "bert-base-uncased_9 - mamba_11: nan\n",
      "bert-base-uncased_9 - mamba_12: nan\n",
      "bert-base-uncased_9 - mamba_13: 0.04761904761904763\n",
      "bert-base-uncased_9 - mamba_14: nan\n",
      "bert-base-uncased_9 - mamba_15: nan\n",
      "bert-base-uncased_9 - mamba_16: nan\n",
      "bert-base-uncased_9 - mamba_17: 0.38095238095238104\n",
      "bert-base-uncased_9 - mamba_18: nan\n",
      "bert-base-uncased_9 - mamba_19: 0.28571428571428575\n",
      "bert-base-uncased_9 - mamba_20: -0.05988131309566295\n",
      "bert-base-uncased_9 - mamba_21: nan\n",
      "bert-base-uncased_9 - mamba_22: -0.05988131309566295\n",
      "bert-base-uncased_9 - mamba_23: nan\n",
      "bert-base-uncased_9 - mamba_24: 0.3424587453664927\n",
      "bert-base-uncased_10 - bert-base-uncased_11: 0.9047619047619048\n",
      "bert-base-uncased_10 - bert-base-uncased_12: 0.9285714285714287\n",
      "bert-base-uncased_10 - mamba_1: -0.11904761904761905\n",
      "bert-base-uncased_10 - mamba_2: -0.11904761904761905\n",
      "bert-base-uncased_10 - mamba_3: -0.22754898976351917\n",
      "bert-base-uncased_10 - mamba_4: -0.13173888881045848\n",
      "bert-base-uncased_10 - mamba_5: -0.203596464525254\n",
      "bert-base-uncased_10 - mamba_6: -0.3233590907165799\n",
      "bert-base-uncased_10 - mamba_7: -0.5389318178609664\n",
      "bert-base-uncased_10 - mamba_8: nan\n",
      "bert-base-uncased_10 - mamba_9: -0.38095238095238104\n",
      "bert-base-uncased_10 - mamba_10: -0.30952380952380953\n",
      "bert-base-uncased_10 - mamba_11: nan\n",
      "bert-base-uncased_10 - mamba_12: nan\n",
      "bert-base-uncased_10 - mamba_13: 0.04761904761904763\n",
      "bert-base-uncased_10 - mamba_14: nan\n",
      "bert-base-uncased_10 - mamba_15: nan\n",
      "bert-base-uncased_10 - mamba_16: nan\n",
      "bert-base-uncased_10 - mamba_17: 0.38095238095238104\n",
      "bert-base-uncased_10 - mamba_18: nan\n",
      "bert-base-uncased_10 - mamba_19: 0.28571428571428575\n",
      "bert-base-uncased_10 - mamba_20: -0.05988131309566295\n",
      "bert-base-uncased_10 - mamba_21: nan\n",
      "bert-base-uncased_10 - mamba_22: -0.05988131309566295\n",
      "bert-base-uncased_10 - mamba_23: nan\n",
      "bert-base-uncased_10 - mamba_24: 0.3424587453664927\n",
      "bert-base-uncased_11 - bert-base-uncased_12: 0.9761904761904763\n",
      "bert-base-uncased_11 - mamba_1: -0.07142857142857144\n",
      "bert-base-uncased_11 - mamba_2: -0.07142857142857144\n",
      "bert-base-uncased_11 - mamba_3: -0.13173888881045848\n",
      "bert-base-uncased_11 - mamba_4: -0.08383383833392813\n",
      "bert-base-uncased_11 - mamba_5: -0.05988131309566295\n",
      "bert-base-uncased_11 - mamba_6: -0.08383383833392813\n",
      "bert-base-uncased_11 - mamba_7: -0.29940656547831473\n",
      "bert-base-uncased_11 - mamba_8: nan\n",
      "bert-base-uncased_11 - mamba_9: -0.04761904761904763\n",
      "bert-base-uncased_11 - mamba_10: 0.023809523809523815\n",
      "bert-base-uncased_11 - mamba_11: nan\n",
      "bert-base-uncased_11 - mamba_12: nan\n",
      "bert-base-uncased_11 - mamba_13: 0.3333333333333334\n",
      "bert-base-uncased_11 - mamba_14: nan\n",
      "bert-base-uncased_11 - mamba_15: nan\n",
      "bert-base-uncased_11 - mamba_16: nan\n",
      "bert-base-uncased_11 - mamba_17: 0.6190476190476191\n",
      "bert-base-uncased_11 - mamba_18: nan\n",
      "bert-base-uncased_11 - mamba_19: 0.523809523809524\n",
      "bert-base-uncased_11 - mamba_20: 0.203596464525254\n",
      "bert-base-uncased_11 - mamba_21: nan\n",
      "bert-base-uncased_11 - mamba_22: 0.203596464525254\n",
      "bert-base-uncased_11 - mamba_23: nan\n",
      "bert-base-uncased_11 - mamba_24: 0.39319337430967677\n",
      "bert-base-uncased_12 - mamba_1: -0.14285714285714288\n",
      "bert-base-uncased_12 - mamba_2: -0.14285714285714288\n",
      "bert-base-uncased_12 - mamba_3: -0.203596464525254\n",
      "bert-base-uncased_12 - mamba_4: -0.15569141404872364\n",
      "bert-base-uncased_12 - mamba_5: -0.15569141404872364\n",
      "bert-base-uncased_12 - mamba_6: -0.13173888881045848\n",
      "bert-base-uncased_12 - mamba_7: -0.37126414119311024\n",
      "bert-base-uncased_12 - mamba_8: nan\n",
      "bert-base-uncased_12 - mamba_9: -0.1666666666666667\n",
      "bert-base-uncased_12 - mamba_10: -0.09523809523809526\n",
      "bert-base-uncased_12 - mamba_11: nan\n",
      "bert-base-uncased_12 - mamba_12: nan\n",
      "bert-base-uncased_12 - mamba_13: 0.2380952380952381\n",
      "bert-base-uncased_12 - mamba_14: nan\n",
      "bert-base-uncased_12 - mamba_15: nan\n",
      "bert-base-uncased_12 - mamba_16: nan\n",
      "bert-base-uncased_12 - mamba_17: 0.5714285714285715\n",
      "bert-base-uncased_12 - mamba_18: nan\n",
      "bert-base-uncased_12 - mamba_19: 0.5000000000000001\n",
      "bert-base-uncased_12 - mamba_20: 0.14371515142959107\n",
      "bert-base-uncased_12 - mamba_21: nan\n",
      "bert-base-uncased_12 - mamba_22: 0.14371515142959107\n",
      "bert-base-uncased_12 - mamba_23: nan\n",
      "bert-base-uncased_12 - mamba_24: 0.4566116604886569\n",
      "mamba_1 - mamba_2: 1.0\n",
      "mamba_1 - mamba_3: 0.9700772721497397\n",
      "mamba_1 - mamba_4: 0.9940297973880048\n",
      "mamba_1 - mamba_5: 0.9461247469114746\n",
      "mamba_1 - mamba_6: 0.8024095954818835\n",
      "mamba_1 - mamba_7: 0.730552019767088\n",
      "mamba_1 - mamba_8: nan\n",
      "mamba_1 - mamba_9: 0.5952380952380953\n",
      "mamba_1 - mamba_10: 0.4523809523809524\n",
      "mamba_1 - mamba_11: nan\n",
      "mamba_1 - mamba_12: nan\n",
      "mamba_1 - mamba_13: 0.11904761904761905\n",
      "mamba_1 - mamba_14: nan\n",
      "mamba_1 - mamba_15: nan\n",
      "mamba_1 - mamba_16: nan\n",
      "mamba_1 - mamba_17: 0.023809523809523815\n",
      "mamba_1 - mamba_18: nan\n",
      "mamba_1 - mamba_19: -0.3571428571428572\n",
      "mamba_1 - mamba_20: -0.3592878785739777\n",
      "mamba_1 - mamba_21: nan\n",
      "mamba_1 - mamba_22: -0.3592878785739777\n",
      "mamba_1 - mamba_23: nan\n",
      "mamba_1 - mamba_24: 0.06341828617898013\n",
      "mamba_2 - mamba_3: 0.9700772721497397\n",
      "mamba_2 - mamba_4: 0.9940297973880048\n",
      "mamba_2 - mamba_5: 0.9461247469114746\n",
      "mamba_2 - mamba_6: 0.8024095954818835\n",
      "mamba_2 - mamba_7: 0.730552019767088\n",
      "mamba_2 - mamba_8: nan\n",
      "mamba_2 - mamba_9: 0.5952380952380953\n",
      "mamba_2 - mamba_10: 0.4523809523809524\n",
      "mamba_2 - mamba_11: nan\n",
      "mamba_2 - mamba_12: nan\n",
      "mamba_2 - mamba_13: 0.11904761904761905\n",
      "mamba_2 - mamba_14: nan\n",
      "mamba_2 - mamba_15: nan\n",
      "mamba_2 - mamba_16: nan\n",
      "mamba_2 - mamba_17: 0.023809523809523815\n",
      "mamba_2 - mamba_18: nan\n",
      "mamba_2 - mamba_19: -0.3571428571428572\n",
      "mamba_2 - mamba_20: -0.3592878785739777\n",
      "mamba_2 - mamba_21: nan\n",
      "mamba_2 - mamba_22: -0.3592878785739777\n",
      "mamba_2 - mamba_23: nan\n",
      "mamba_2 - mamba_24: 0.06341828617898013\n",
      "mamba_3 - mamba_4: 0.9759036144578312\n",
      "mamba_3 - mamba_5: 0.9759036144578312\n",
      "mamba_3 - mamba_6: 0.8554216867469879\n",
      "mamba_3 - mamba_7: 0.7590361445783131\n",
      "mamba_3 - mamba_8: nan\n",
      "mamba_3 - mamba_9: 0.6347419188140273\n",
      "mamba_3 - mamba_10: 0.4431217169079058\n",
      "mamba_3 - mamba_11: nan\n",
      "mamba_3 - mamba_12: nan\n",
      "mamba_3 - mamba_13: 0.08383383833392813\n",
      "mamba_3 - mamba_14: nan\n",
      "mamba_3 - mamba_15: nan\n",
      "mamba_3 - mamba_16: nan\n",
      "mamba_3 - mamba_17: -0.04790505047653036\n",
      "mamba_3 - mamba_18: nan\n",
      "mamba_3 - mamba_19: -0.4191691916696406\n",
      "mamba_3 - mamba_20: -0.3734939759036144\n",
      "mamba_3 - mamba_21: nan\n",
      "mamba_3 - mamba_22: -0.3734939759036144\n",
      "mamba_3 - mamba_23: nan\n",
      "mamba_3 - mamba_24: 0.08293893427471716\n",
      "mamba_4 - mamba_5: 0.9518072289156626\n",
      "mamba_4 - mamba_6: 0.8072289156626505\n",
      "mamba_4 - mamba_7: 0.7349397590361445\n",
      "mamba_4 - mamba_8: nan\n",
      "mamba_4 - mamba_9: 0.6107893935757621\n",
      "mamba_4 - mamba_10: 0.4191691916696406\n",
      "mamba_4 - mamba_11: nan\n",
      "mamba_4 - mamba_12: nan\n",
      "mamba_4 - mamba_13: 0.05988131309566294\n",
      "mamba_4 - mamba_14: nan\n",
      "mamba_4 - mamba_15: nan\n",
      "mamba_4 - mamba_16: nan\n",
      "mamba_4 - mamba_17: -0.02395252523826518\n",
      "mamba_4 - mamba_18: nan\n",
      "mamba_4 - mamba_19: -0.3952166664313755\n",
      "mamba_4 - mamba_20: -0.39759036144578314\n",
      "mamba_4 - mamba_21: nan\n",
      "mamba_4 - mamba_22: -0.39759036144578314\n",
      "mamba_4 - mamba_23: nan\n",
      "mamba_4 - mamba_24: -0.00637991802113209\n",
      "mamba_5 - mamba_6: 0.8795180722891566\n",
      "mamba_5 - mamba_7: 0.7831325301204818\n",
      "mamba_5 - mamba_8: nan\n",
      "mamba_5 - mamba_9: 0.7065994945288229\n",
      "mamba_5 - mamba_10: 0.4910267673844362\n",
      "mamba_5 - mamba_11: nan\n",
      "mamba_5 - mamba_12: nan\n",
      "mamba_5 - mamba_13: 0.10778636357219329\n",
      "mamba_5 - mamba_14: nan\n",
      "mamba_5 - mamba_15: nan\n",
      "mamba_5 - mamba_16: nan\n",
      "mamba_5 - mamba_17: -0.02395252523826518\n",
      "mamba_5 - mamba_18: nan\n",
      "mamba_5 - mamba_19: -0.34731161595484505\n",
      "mamba_5 - mamba_20: -0.3373493975903614\n",
      "mamba_5 - mamba_21: nan\n",
      "mamba_5 - mamba_22: -0.3373493975903614\n",
      "mamba_5 - mamba_23: nan\n",
      "mamba_5 - mamba_24: 0.01913975406339627\n",
      "mamba_6 - mamba_7: 0.927710843373494\n",
      "mamba_6 - mamba_8: nan\n",
      "mamba_6 - mamba_9: 0.8503146459584138\n",
      "mamba_6 - mamba_10: 0.6586944440522925\n",
      "mamba_6 - mamba_11: nan\n",
      "mamba_6 - mamba_12: nan\n",
      "mamba_6 - mamba_13: 0.2515015150017844\n",
      "mamba_6 - mamba_14: nan\n",
      "mamba_6 - mamba_15: nan\n",
      "mamba_6 - mamba_16: nan\n",
      "mamba_6 - mamba_17: 0.16766767666785626\n",
      "mamba_6 - mamba_18: nan\n",
      "mamba_6 - mamba_19: -0.05988131309566294\n",
      "mamba_6 - mamba_20: -0.08433734939759036\n",
      "mamba_6 - mamba_21: nan\n",
      "mamba_6 - mamba_22: -0.08433734939759036\n",
      "mamba_6 - mamba_23: nan\n",
      "mamba_6 - mamba_24: 0.08293893427471716\n",
      "mamba_7 - mamba_8: nan\n",
      "mamba_7 - mamba_9: 0.9221722216732094\n",
      "mamba_7 - mamba_10: 0.7784570702436183\n",
      "mamba_7 - mamba_11: nan\n",
      "mamba_7 - mamba_12: nan\n",
      "mamba_7 - mamba_13: 0.3233590907165799\n",
      "mamba_7 - mamba_14: nan\n",
      "mamba_7 - mamba_15: nan\n",
      "mamba_7 - mamba_16: nan\n",
      "mamba_7 - mamba_17: 0.16766767666785626\n",
      "mamba_7 - mamba_18: nan\n",
      "mamba_7 - mamba_19: 0.01197626261913259\n",
      "mamba_7 - mamba_20: 0.08433734939759036\n",
      "mamba_7 - mamba_21: nan\n",
      "mamba_7 - mamba_22: 0.08433734939759036\n",
      "mamba_7 - mamba_23: nan\n",
      "mamba_7 - mamba_24: -0.14673811448603807\n",
      "mamba_8 - mamba_9: nan\n",
      "mamba_8 - mamba_10: nan\n",
      "mamba_8 - mamba_11: nan\n",
      "mamba_8 - mamba_12: nan\n",
      "mamba_8 - mamba_13: nan\n",
      "mamba_8 - mamba_14: nan\n",
      "mamba_8 - mamba_15: nan\n",
      "mamba_8 - mamba_16: nan\n",
      "mamba_8 - mamba_17: nan\n",
      "mamba_8 - mamba_18: nan\n",
      "mamba_8 - mamba_19: nan\n",
      "mamba_8 - mamba_20: nan\n",
      "mamba_8 - mamba_21: nan\n",
      "mamba_8 - mamba_22: nan\n",
      "mamba_8 - mamba_23: nan\n",
      "mamba_8 - mamba_24: nan\n",
      "mamba_9 - mamba_10: 0.8571428571428572\n",
      "mamba_9 - mamba_11: nan\n",
      "mamba_9 - mamba_12: nan\n",
      "mamba_9 - mamba_13: 0.4761904761904762\n",
      "mamba_9 - mamba_14: nan\n",
      "mamba_9 - mamba_15: nan\n",
      "mamba_9 - mamba_16: nan\n",
      "mamba_9 - mamba_17: 0.3571428571428572\n",
      "mamba_9 - mamba_18: nan\n",
      "mamba_9 - mamba_19: 0.2380952380952381\n",
      "mamba_9 - mamba_20: 0.28743030285918214\n",
      "mamba_9 - mamba_21: nan\n",
      "mamba_9 - mamba_22: 0.28743030285918214\n",
      "mamba_9 - mamba_23: nan\n",
      "mamba_9 - mamba_24: -0.20293851577273644\n",
      "mamba_10 - mamba_11: nan\n",
      "mamba_10 - mamba_12: nan\n",
      "mamba_10 - mamba_13: 0.8333333333333335\n",
      "mamba_10 - mamba_14: nan\n",
      "mamba_10 - mamba_15: nan\n",
      "mamba_10 - mamba_16: nan\n",
      "mamba_10 - mamba_17: 0.6666666666666669\n",
      "mamba_10 - mamba_18: nan\n",
      "mamba_10 - mamba_19: 0.523809523809524\n",
      "mamba_10 - mamba_20: 0.6347419188140272\n",
      "mamba_10 - mamba_21: nan\n",
      "mamba_10 - mamba_22: 0.6347419188140272\n",
      "mamba_10 - mamba_23: nan\n",
      "mamba_10 - mamba_24: 0.10146925788636822\n",
      "mamba_11 - mamba_12: nan\n",
      "mamba_11 - mamba_13: nan\n",
      "mamba_11 - mamba_14: nan\n",
      "mamba_11 - mamba_15: nan\n",
      "mamba_11 - mamba_16: nan\n",
      "mamba_11 - mamba_17: nan\n",
      "mamba_11 - mamba_18: nan\n",
      "mamba_11 - mamba_19: nan\n",
      "mamba_11 - mamba_20: nan\n",
      "mamba_11 - mamba_21: nan\n",
      "mamba_11 - mamba_22: nan\n",
      "mamba_11 - mamba_23: nan\n",
      "mamba_11 - mamba_24: nan\n",
      "mamba_12 - mamba_13: nan\n",
      "mamba_12 - mamba_14: nan\n",
      "mamba_12 - mamba_15: nan\n",
      "mamba_12 - mamba_16: nan\n",
      "mamba_12 - mamba_17: nan\n",
      "mamba_12 - mamba_18: nan\n",
      "mamba_12 - mamba_19: nan\n",
      "mamba_12 - mamba_20: nan\n",
      "mamba_12 - mamba_21: nan\n",
      "mamba_12 - mamba_22: nan\n",
      "mamba_12 - mamba_23: nan\n",
      "mamba_12 - mamba_24: nan\n",
      "mamba_13 - mamba_14: nan\n",
      "mamba_13 - mamba_15: nan\n",
      "mamba_13 - mamba_16: nan\n",
      "mamba_13 - mamba_17: 0.9047619047619048\n",
      "mamba_13 - mamba_18: nan\n",
      "mamba_13 - mamba_19: 0.7619047619047621\n",
      "mamba_13 - mamba_20: 0.8503146459584139\n",
      "mamba_13 - mamba_21: nan\n",
      "mamba_13 - mamba_22: 0.8503146459584139\n",
      "mamba_13 - mamba_23: nan\n",
      "mamba_13 - mamba_24: 0.43124434601706485\n",
      "mamba_14 - mamba_15: nan\n",
      "mamba_14 - mamba_16: nan\n",
      "mamba_14 - mamba_17: nan\n",
      "mamba_14 - mamba_18: nan\n",
      "mamba_14 - mamba_19: nan\n",
      "mamba_14 - mamba_20: nan\n",
      "mamba_14 - mamba_21: nan\n",
      "mamba_14 - mamba_22: nan\n",
      "mamba_14 - mamba_23: nan\n",
      "mamba_14 - mamba_24: nan\n",
      "mamba_15 - mamba_16: nan\n",
      "mamba_15 - mamba_17: nan\n",
      "mamba_15 - mamba_18: nan\n",
      "mamba_15 - mamba_19: nan\n",
      "mamba_15 - mamba_20: nan\n",
      "mamba_15 - mamba_21: nan\n",
      "mamba_15 - mamba_22: nan\n",
      "mamba_15 - mamba_23: nan\n",
      "mamba_15 - mamba_24: nan\n",
      "mamba_16 - mamba_17: nan\n",
      "mamba_16 - mamba_18: nan\n",
      "mamba_16 - mamba_19: nan\n",
      "mamba_16 - mamba_20: nan\n",
      "mamba_16 - mamba_21: nan\n",
      "mamba_16 - mamba_22: nan\n",
      "mamba_16 - mamba_23: nan\n",
      "mamba_16 - mamba_24: nan\n",
      "mamba_17 - mamba_18: nan\n",
      "mamba_17 - mamba_19: 0.880952380952381\n",
      "mamba_17 - mamba_20: 0.790433332862751\n",
      "mamba_17 - mamba_21: nan\n",
      "mamba_17 - mamba_22: 0.790433332862751\n",
      "mamba_17 - mamba_23: nan\n",
      "mamba_17 - mamba_24: 0.4566116604886569\n",
      "mamba_18 - mamba_19: nan\n",
      "mamba_18 - mamba_20: nan\n",
      "mamba_18 - mamba_21: nan\n",
      "mamba_18 - mamba_22: nan\n",
      "mamba_18 - mamba_23: nan\n",
      "mamba_18 - mamba_24: nan\n",
      "mamba_19 - mamba_20: 0.8862434338158116\n",
      "mamba_19 - mamba_21: nan\n",
      "mamba_19 - mamba_22: 0.8862434338158116\n",
      "mamba_19 - mamba_23: nan\n",
      "mamba_19 - mamba_24: 0.22830583024432846\n",
      "mamba_20 - mamba_21: nan\n",
      "mamba_20 - mamba_22: 0.9999999999999998\n",
      "mamba_20 - mamba_23: nan\n",
      "mamba_20 - mamba_24: 0.17863770459169853\n",
      "mamba_21 - mamba_22: nan\n",
      "mamba_21 - mamba_23: nan\n",
      "mamba_21 - mamba_24: nan\n",
      "mamba_22 - mamba_23: nan\n",
      "mamba_22 - mamba_24: 0.17863770459169853\n",
      "mamba_23 - mamba_24: nan\n"
     ]
    }
   ],
   "source": [
    "for dataset in ['svo_long_word_level_offset_simplif']:\n",
    "    for activation in ['last-token']:\n",
    "\n",
    "        fi_scatter_plot = FeatureImportanceScatterPlot(models_names=[\"gpt2\", \"bert-base-uncased\", \"mamba\"],\n",
    "                                                    dataset=dataset,\n",
    "                                                    take_activation_from=activation)\n",
    "\n",
    "        fi_scatter_df = fi_scatter_plot.get_feature_importances()\n",
    "        pairwise_correlation = fi_scatter_plot.pairwise_correlation_matrix()\n",
    "        fi_scatter_plot.plot_pairwise_correlation_matrix()"
   ]
  },
  {
   "cell_type": "code",
   "execution_count": 44,
   "metadata": {},
   "outputs": [
    {
     "ename": "ValueError",
     "evalue": "\n    Invalid element(s) received for the 'size' property of scatter.marker\n        Invalid elements include: [-15.894783790141567]\n\n    The 'size' property is a number and may be specified as:\n      - An int or float in the interval [0, inf]\n      - A tuple, list, or one-dimensional numpy array of the above",
     "output_type": "error",
     "traceback": [
      "\u001b[0;31m---------------------------------------------------------------------------\u001b[0m",
      "\u001b[0;31mValueError\u001b[0m                                Traceback (most recent call last)",
      "Cell \u001b[0;32mIn[44], line 1\u001b[0m\n\u001b[0;32m----> 1\u001b[0m fig \u001b[38;5;241m=\u001b[39m \u001b[43mfi_scatter_plot\u001b[49m\u001b[38;5;241;43m.\u001b[39;49m\u001b[43mplot_fi_scatter\u001b[49m\u001b[43m(\u001b[49m\u001b[43mlayer_id1\u001b[49m\u001b[38;5;241;43m=\u001b[39;49m\u001b[38;5;124;43m'\u001b[39;49m\u001b[38;5;124;43mgpt2_7\u001b[39;49m\u001b[38;5;124;43m'\u001b[39;49m\u001b[43m,\u001b[49m\u001b[43m \u001b[49m\u001b[43mlayer_id2\u001b[49m\u001b[38;5;241;43m=\u001b[39;49m\u001b[38;5;124;43m'\u001b[39;49m\u001b[38;5;124;43mbert_1\u001b[39;49m\u001b[38;5;124;43m'\u001b[39;49m\u001b[43m)\u001b[49m\n\u001b[1;32m      2\u001b[0m fig\u001b[38;5;241m.\u001b[39mshow()\n",
      "Cell \u001b[0;32mIn[42], line 225\u001b[0m, in \u001b[0;36mFeatureImportanceScatterPlot.plot_fi_scatter\u001b[0;34m(self, layer_id1, layer_id2)\u001b[0m\n\u001b[1;32m    222\u001b[0m fi_scatter_df[\u001b[38;5;124m'\u001b[39m\u001b[38;5;124mmax_value_pre\u001b[39m\u001b[38;5;124m'\u001b[39m] \u001b[38;5;241m=\u001b[39m fi_scatter_df[[layer_id1, layer_id2]]\u001b[38;5;241m.\u001b[39mmax(axis\u001b[38;5;241m=\u001b[39m\u001b[38;5;241m1\u001b[39m) \n\u001b[1;32m    223\u001b[0m fi_scatter_df[\u001b[38;5;124m'\u001b[39m\u001b[38;5;124mmax_value\u001b[39m\u001b[38;5;124m'\u001b[39m] \u001b[38;5;241m=\u001b[39m fi_scatter_df[\u001b[38;5;124m'\u001b[39m\u001b[38;5;124mmax_value_pre\u001b[39m\u001b[38;5;124m'\u001b[39m] \u001b[38;5;241m+\u001b[39m fi_scatter_df[\u001b[38;5;124m'\u001b[39m\u001b[38;5;124mmax_value_pre\u001b[39m\u001b[38;5;124m'\u001b[39m]\u001b[38;5;241m.\u001b[39mmin() \u001b[38;5;241m+\u001b[39m \u001b[38;5;241m1\u001b[39m\n\u001b[0;32m--> 225\u001b[0m fig \u001b[38;5;241m=\u001b[39m \u001b[43mpx\u001b[49m\u001b[38;5;241;43m.\u001b[39;49m\u001b[43mscatter\u001b[49m\u001b[43m(\u001b[49m\u001b[43mfi_scatter_df\u001b[49m\u001b[43m,\u001b[49m\u001b[43m \u001b[49m\n\u001b[1;32m    226\u001b[0m \u001b[43m                 \u001b[49m\u001b[43mx\u001b[49m\u001b[38;5;241;43m=\u001b[39;49m\u001b[43mlayer_id1\u001b[49m\u001b[43m,\u001b[49m\u001b[43m \u001b[49m\n\u001b[1;32m    227\u001b[0m \u001b[43m                 \u001b[49m\u001b[43my\u001b[49m\u001b[38;5;241;43m=\u001b[39;49m\u001b[43mlayer_id2\u001b[49m\u001b[43m,\u001b[49m\u001b[43m \u001b[49m\n\u001b[1;32m    228\u001b[0m \u001b[43m                 \u001b[49m\u001b[43mcolor\u001b[49m\u001b[38;5;241;43m=\u001b[39;49m\u001b[38;5;124;43m'\u001b[39;49m\u001b[38;5;124;43mfeature\u001b[39;49m\u001b[38;5;124;43m'\u001b[39;49m\u001b[43m,\u001b[49m\n\u001b[1;32m    229\u001b[0m \u001b[43m                 \u001b[49m\u001b[43mcolor_discrete_map\u001b[49m\u001b[38;5;241;43m=\u001b[39;49m\u001b[43mfeature_color_mapping_hex\u001b[49m\u001b[43m,\u001b[49m\n\u001b[1;32m    230\u001b[0m \u001b[43m                 \u001b[49m\u001b[43msize\u001b[49m\u001b[38;5;241;43m=\u001b[39;49m\u001b[38;5;124;43m'\u001b[39;49m\u001b[38;5;124;43mmax_value\u001b[39;49m\u001b[38;5;124;43m'\u001b[39;49m\u001b[43m)\u001b[49m\n\u001b[1;32m    233\u001b[0m min_ \u001b[38;5;241m=\u001b[39m \u001b[38;5;28mmin\u001b[39m(fi_scatter_df[layer_id1]\u001b[38;5;241m.\u001b[39mmin(), fi_scatter_df[layer_id2]\u001b[38;5;241m.\u001b[39mmin())\n\u001b[1;32m    234\u001b[0m max_ \u001b[38;5;241m=\u001b[39m \u001b[38;5;28mmax\u001b[39m(fi_scatter_df[layer_id1]\u001b[38;5;241m.\u001b[39mmax(), fi_scatter_df[layer_id2]\u001b[38;5;241m.\u001b[39mmax())\n",
      "File \u001b[0;32m~/.conda/envs/p11/lib/python3.11/site-packages/plotly/express/_chart_types.py:66\u001b[0m, in \u001b[0;36mscatter\u001b[0;34m(data_frame, x, y, color, symbol, size, hover_name, hover_data, custom_data, text, facet_row, facet_col, facet_col_wrap, facet_row_spacing, facet_col_spacing, error_x, error_x_minus, error_y, error_y_minus, animation_frame, animation_group, category_orders, labels, orientation, color_discrete_sequence, color_discrete_map, color_continuous_scale, range_color, color_continuous_midpoint, symbol_sequence, symbol_map, opacity, size_max, marginal_x, marginal_y, trendline, trendline_options, trendline_color_override, trendline_scope, log_x, log_y, range_x, range_y, render_mode, title, template, width, height)\u001b[0m\n\u001b[1;32m     12\u001b[0m \u001b[38;5;28;01mdef\u001b[39;00m \u001b[38;5;21mscatter\u001b[39m(\n\u001b[1;32m     13\u001b[0m     data_frame\u001b[38;5;241m=\u001b[39m\u001b[38;5;28;01mNone\u001b[39;00m,\n\u001b[1;32m     14\u001b[0m     x\u001b[38;5;241m=\u001b[39m\u001b[38;5;28;01mNone\u001b[39;00m,\n\u001b[0;32m   (...)\u001b[0m\n\u001b[1;32m     60\u001b[0m     height\u001b[38;5;241m=\u001b[39m\u001b[38;5;28;01mNone\u001b[39;00m,\n\u001b[1;32m     61\u001b[0m ) \u001b[38;5;241m-\u001b[39m\u001b[38;5;241m>\u001b[39m go\u001b[38;5;241m.\u001b[39mFigure:\n\u001b[1;32m     62\u001b[0m \u001b[38;5;250m    \u001b[39m\u001b[38;5;124;03m\"\"\"\u001b[39;00m\n\u001b[1;32m     63\u001b[0m \u001b[38;5;124;03m    In a scatter plot, each row of `data_frame` is represented by a symbol\u001b[39;00m\n\u001b[1;32m     64\u001b[0m \u001b[38;5;124;03m    mark in 2D space.\u001b[39;00m\n\u001b[1;32m     65\u001b[0m \u001b[38;5;124;03m    \"\"\"\u001b[39;00m\n\u001b[0;32m---> 66\u001b[0m     \u001b[38;5;28;01mreturn\u001b[39;00m \u001b[43mmake_figure\u001b[49m\u001b[43m(\u001b[49m\u001b[43margs\u001b[49m\u001b[38;5;241;43m=\u001b[39;49m\u001b[38;5;28;43mlocals\u001b[39;49m\u001b[43m(\u001b[49m\u001b[43m)\u001b[49m\u001b[43m,\u001b[49m\u001b[43m \u001b[49m\u001b[43mconstructor\u001b[49m\u001b[38;5;241;43m=\u001b[39;49m\u001b[43mgo\u001b[49m\u001b[38;5;241;43m.\u001b[39;49m\u001b[43mScatter\u001b[49m\u001b[43m)\u001b[49m\n",
      "File \u001b[0;32m~/.conda/envs/p11/lib/python3.11/site-packages/plotly/express/_core.py:2170\u001b[0m, in \u001b[0;36mmake_figure\u001b[0;34m(args, constructor, trace_patch, layout_patch)\u001b[0m\n\u001b[1;32m   2165\u001b[0m         group[var] \u001b[38;5;241m=\u001b[39m \u001b[38;5;241m100.0\u001b[39m \u001b[38;5;241m*\u001b[39m group[var] \u001b[38;5;241m/\u001b[39m group_sum\n\u001b[1;32m   2167\u001b[0m patch, fit_results \u001b[38;5;241m=\u001b[39m make_trace_kwargs(\n\u001b[1;32m   2168\u001b[0m     args, trace_spec, group, mapping_labels\u001b[38;5;241m.\u001b[39mcopy(), sizeref\n\u001b[1;32m   2169\u001b[0m )\n\u001b[0;32m-> 2170\u001b[0m \u001b[43mtrace\u001b[49m\u001b[38;5;241;43m.\u001b[39;49m\u001b[43mupdate\u001b[49m\u001b[43m(\u001b[49m\u001b[43mpatch\u001b[49m\u001b[43m)\u001b[49m\n\u001b[1;32m   2171\u001b[0m \u001b[38;5;28;01mif\u001b[39;00m fit_results \u001b[38;5;129;01mis\u001b[39;00m \u001b[38;5;129;01mnot\u001b[39;00m \u001b[38;5;28;01mNone\u001b[39;00m:\n\u001b[1;32m   2172\u001b[0m     trendline_rows\u001b[38;5;241m.\u001b[39mappend(mapping_labels\u001b[38;5;241m.\u001b[39mcopy())\n",
      "File \u001b[0;32m~/.conda/envs/p11/lib/python3.11/site-packages/plotly/basedatatypes.py:5124\u001b[0m, in \u001b[0;36mBasePlotlyType.update\u001b[0;34m(self, dict1, overwrite, **kwargs)\u001b[0m\n\u001b[1;32m   5122\u001b[0m         BaseFigure\u001b[38;5;241m.\u001b[39m_perform_update(\u001b[38;5;28mself\u001b[39m, kwargs, overwrite\u001b[38;5;241m=\u001b[39moverwrite)\n\u001b[1;32m   5123\u001b[0m \u001b[38;5;28;01melse\u001b[39;00m:\n\u001b[0;32m-> 5124\u001b[0m     \u001b[43mBaseFigure\u001b[49m\u001b[38;5;241;43m.\u001b[39;49m\u001b[43m_perform_update\u001b[49m\u001b[43m(\u001b[49m\u001b[38;5;28;43mself\u001b[39;49m\u001b[43m,\u001b[49m\u001b[43m \u001b[49m\u001b[43mdict1\u001b[49m\u001b[43m,\u001b[49m\u001b[43m \u001b[49m\u001b[43moverwrite\u001b[49m\u001b[38;5;241;43m=\u001b[39;49m\u001b[43moverwrite\u001b[49m\u001b[43m)\u001b[49m\n\u001b[1;32m   5125\u001b[0m     BaseFigure\u001b[38;5;241m.\u001b[39m_perform_update(\u001b[38;5;28mself\u001b[39m, kwargs, overwrite\u001b[38;5;241m=\u001b[39moverwrite)\n\u001b[1;32m   5127\u001b[0m \u001b[38;5;28;01mreturn\u001b[39;00m \u001b[38;5;28mself\u001b[39m\n",
      "File \u001b[0;32m~/.conda/envs/p11/lib/python3.11/site-packages/plotly/basedatatypes.py:3908\u001b[0m, in \u001b[0;36mBaseFigure._perform_update\u001b[0;34m(plotly_obj, update_obj, overwrite)\u001b[0m\n\u001b[1;32m   3902\u001b[0m validator \u001b[38;5;241m=\u001b[39m plotly_obj\u001b[38;5;241m.\u001b[39m_get_prop_validator(key)\n\u001b[1;32m   3904\u001b[0m \u001b[38;5;28;01mif\u001b[39;00m \u001b[38;5;28misinstance\u001b[39m(validator, CompoundValidator) \u001b[38;5;129;01mand\u001b[39;00m \u001b[38;5;28misinstance\u001b[39m(val, \u001b[38;5;28mdict\u001b[39m):\n\u001b[1;32m   3905\u001b[0m \n\u001b[1;32m   3906\u001b[0m     \u001b[38;5;66;03m# Update compound objects recursively\u001b[39;00m\n\u001b[1;32m   3907\u001b[0m     \u001b[38;5;66;03m# plotly_obj[key].update(val)\u001b[39;00m\n\u001b[0;32m-> 3908\u001b[0m     \u001b[43mBaseFigure\u001b[49m\u001b[38;5;241;43m.\u001b[39;49m\u001b[43m_perform_update\u001b[49m\u001b[43m(\u001b[49m\u001b[43mplotly_obj\u001b[49m\u001b[43m[\u001b[49m\u001b[43mkey\u001b[49m\u001b[43m]\u001b[49m\u001b[43m,\u001b[49m\u001b[43m \u001b[49m\u001b[43mval\u001b[49m\u001b[43m)\u001b[49m\n\u001b[1;32m   3909\u001b[0m \u001b[38;5;28;01melif\u001b[39;00m \u001b[38;5;28misinstance\u001b[39m(validator, CompoundArrayValidator):\n\u001b[1;32m   3910\u001b[0m     \u001b[38;5;28;01mif\u001b[39;00m plotly_obj[key]:\n\u001b[1;32m   3911\u001b[0m         \u001b[38;5;66;03m# plotly_obj has an existing non-empty array for key\u001b[39;00m\n\u001b[1;32m   3912\u001b[0m         \u001b[38;5;66;03m# In this case we merge val into the existing elements\u001b[39;00m\n",
      "File \u001b[0;32m~/.conda/envs/p11/lib/python3.11/site-packages/plotly/basedatatypes.py:3929\u001b[0m, in \u001b[0;36mBaseFigure._perform_update\u001b[0;34m(plotly_obj, update_obj, overwrite)\u001b[0m\n\u001b[1;32m   3926\u001b[0m                 plotly_obj[key] \u001b[38;5;241m=\u001b[39m val\n\u001b[1;32m   3927\u001b[0m         \u001b[38;5;28;01melse\u001b[39;00m:\n\u001b[1;32m   3928\u001b[0m             \u001b[38;5;66;03m# Assign non-compound value\u001b[39;00m\n\u001b[0;32m-> 3929\u001b[0m             \u001b[43mplotly_obj\u001b[49m\u001b[43m[\u001b[49m\u001b[43mkey\u001b[49m\u001b[43m]\u001b[49m \u001b[38;5;241m=\u001b[39m val\n\u001b[1;32m   3931\u001b[0m \u001b[38;5;28;01melif\u001b[39;00m \u001b[38;5;28misinstance\u001b[39m(plotly_obj, \u001b[38;5;28mtuple\u001b[39m):\n\u001b[1;32m   3933\u001b[0m     \u001b[38;5;28;01mif\u001b[39;00m \u001b[38;5;28mlen\u001b[39m(update_obj) \u001b[38;5;241m==\u001b[39m \u001b[38;5;241m0\u001b[39m:\n\u001b[1;32m   3934\u001b[0m         \u001b[38;5;66;03m# Nothing to do\u001b[39;00m\n",
      "File \u001b[0;32m~/.conda/envs/p11/lib/python3.11/site-packages/plotly/basedatatypes.py:4859\u001b[0m, in \u001b[0;36mBasePlotlyType.__setitem__\u001b[0;34m(self, prop, value)\u001b[0m\n\u001b[1;32m   4855\u001b[0m         \u001b[38;5;28mself\u001b[39m\u001b[38;5;241m.\u001b[39m_set_array_prop(prop, value)\n\u001b[1;32m   4857\u001b[0m     \u001b[38;5;66;03m# ### Handle simple property ###\u001b[39;00m\n\u001b[1;32m   4858\u001b[0m     \u001b[38;5;28;01melse\u001b[39;00m:\n\u001b[0;32m-> 4859\u001b[0m         \u001b[38;5;28;43mself\u001b[39;49m\u001b[38;5;241;43m.\u001b[39;49m\u001b[43m_set_prop\u001b[49m\u001b[43m(\u001b[49m\u001b[43mprop\u001b[49m\u001b[43m,\u001b[49m\u001b[43m \u001b[49m\u001b[43mvalue\u001b[49m\u001b[43m)\u001b[49m\n\u001b[1;32m   4860\u001b[0m \u001b[38;5;28;01melse\u001b[39;00m:\n\u001b[1;32m   4861\u001b[0m     \u001b[38;5;66;03m# Make sure properties dict is initialized\u001b[39;00m\n\u001b[1;32m   4862\u001b[0m     \u001b[38;5;28mself\u001b[39m\u001b[38;5;241m.\u001b[39m_init_props()\n",
      "File \u001b[0;32m~/.conda/envs/p11/lib/python3.11/site-packages/plotly/basedatatypes.py:5203\u001b[0m, in \u001b[0;36mBasePlotlyType._set_prop\u001b[0;34m(self, prop, val)\u001b[0m\n\u001b[1;32m   5201\u001b[0m         \u001b[38;5;28;01mreturn\u001b[39;00m\n\u001b[1;32m   5202\u001b[0m     \u001b[38;5;28;01melse\u001b[39;00m:\n\u001b[0;32m-> 5203\u001b[0m         \u001b[38;5;28;01mraise\u001b[39;00m err\n\u001b[1;32m   5205\u001b[0m \u001b[38;5;66;03m# val is None\u001b[39;00m\n\u001b[1;32m   5206\u001b[0m \u001b[38;5;66;03m# -----------\u001b[39;00m\n\u001b[1;32m   5207\u001b[0m \u001b[38;5;28;01mif\u001b[39;00m val \u001b[38;5;129;01mis\u001b[39;00m \u001b[38;5;28;01mNone\u001b[39;00m:\n\u001b[1;32m   5208\u001b[0m     \u001b[38;5;66;03m# Check if we should send null update\u001b[39;00m\n",
      "File \u001b[0;32m~/.conda/envs/p11/lib/python3.11/site-packages/plotly/basedatatypes.py:5198\u001b[0m, in \u001b[0;36mBasePlotlyType._set_prop\u001b[0;34m(self, prop, val)\u001b[0m\n\u001b[1;32m   5195\u001b[0m validator \u001b[38;5;241m=\u001b[39m \u001b[38;5;28mself\u001b[39m\u001b[38;5;241m.\u001b[39m_get_validator(prop)\n\u001b[1;32m   5197\u001b[0m \u001b[38;5;28;01mtry\u001b[39;00m:\n\u001b[0;32m-> 5198\u001b[0m     val \u001b[38;5;241m=\u001b[39m \u001b[43mvalidator\u001b[49m\u001b[38;5;241;43m.\u001b[39;49m\u001b[43mvalidate_coerce\u001b[49m\u001b[43m(\u001b[49m\u001b[43mval\u001b[49m\u001b[43m)\u001b[49m\n\u001b[1;32m   5199\u001b[0m \u001b[38;5;28;01mexcept\u001b[39;00m \u001b[38;5;167;01mValueError\u001b[39;00m \u001b[38;5;28;01mas\u001b[39;00m err:\n\u001b[1;32m   5200\u001b[0m     \u001b[38;5;28;01mif\u001b[39;00m \u001b[38;5;28mself\u001b[39m\u001b[38;5;241m.\u001b[39m_skip_invalid:\n",
      "File \u001b[0;32m~/.conda/envs/p11/lib/python3.11/site-packages/_plotly_utils/basevalidators.py:778\u001b[0m, in \u001b[0;36mNumberValidator.validate_coerce\u001b[0;34m(self, v)\u001b[0m\n\u001b[1;32m    773\u001b[0m             v_invalid \u001b[38;5;241m=\u001b[39m np\u001b[38;5;241m.\u001b[39mlogical_not(v_valid)\n\u001b[1;32m    774\u001b[0m             some_invalid_els \u001b[38;5;241m=\u001b[39m np\u001b[38;5;241m.\u001b[39marray(v, dtype\u001b[38;5;241m=\u001b[39m\u001b[38;5;124m\"\u001b[39m\u001b[38;5;124mobject\u001b[39m\u001b[38;5;124m\"\u001b[39m)[v_invalid][\n\u001b[1;32m    775\u001b[0m                 :\u001b[38;5;241m10\u001b[39m\n\u001b[1;32m    776\u001b[0m             ]\u001b[38;5;241m.\u001b[39mtolist()\n\u001b[0;32m--> 778\u001b[0m             \u001b[38;5;28;43mself\u001b[39;49m\u001b[38;5;241;43m.\u001b[39;49m\u001b[43mraise_invalid_elements\u001b[49m\u001b[43m(\u001b[49m\u001b[43msome_invalid_els\u001b[49m\u001b[43m)\u001b[49m\n\u001b[1;32m    780\u001b[0m     v \u001b[38;5;241m=\u001b[39m v_array  \u001b[38;5;66;03m# Always numeric numpy array\u001b[39;00m\n\u001b[1;32m    781\u001b[0m \u001b[38;5;28;01melif\u001b[39;00m \u001b[38;5;28mself\u001b[39m\u001b[38;5;241m.\u001b[39marray_ok \u001b[38;5;129;01mand\u001b[39;00m is_simple_array(v):\n\u001b[1;32m    782\u001b[0m     \u001b[38;5;66;03m# Check numeric\u001b[39;00m\n",
      "File \u001b[0;32m~/.conda/envs/p11/lib/python3.11/site-packages/_plotly_utils/basevalidators.py:304\u001b[0m, in \u001b[0;36mBaseValidator.raise_invalid_elements\u001b[0;34m(self, invalid_els)\u001b[0m\n\u001b[1;32m    302\u001b[0m     \u001b[38;5;28;01mdef\u001b[39;00m \u001b[38;5;21mraise_invalid_elements\u001b[39m(\u001b[38;5;28mself\u001b[39m, invalid_els):\n\u001b[1;32m    303\u001b[0m         \u001b[38;5;28;01mif\u001b[39;00m invalid_els:\n\u001b[0;32m--> 304\u001b[0m             \u001b[38;5;28;01mraise\u001b[39;00m \u001b[38;5;167;01mValueError\u001b[39;00m(\n\u001b[1;32m    305\u001b[0m \u001b[38;5;250m                \u001b[39m\u001b[38;5;124;03m\"\"\"\u001b[39;00m\n\u001b[1;32m    306\u001b[0m \u001b[38;5;124;03m    Invalid element(s) received for the '{name}' property of {pname}\u001b[39;00m\n\u001b[1;32m    307\u001b[0m \u001b[38;5;124;03m        Invalid elements include: {invalid}\u001b[39;00m\n\u001b[1;32m    308\u001b[0m \n\u001b[1;32m    309\u001b[0m \u001b[38;5;124;03m{valid_clr_desc}\"\"\"\u001b[39;00m\u001b[38;5;241m.\u001b[39mformat(\n\u001b[1;32m    310\u001b[0m                     name\u001b[38;5;241m=\u001b[39m\u001b[38;5;28mself\u001b[39m\u001b[38;5;241m.\u001b[39mplotly_name,\n\u001b[1;32m    311\u001b[0m                     pname\u001b[38;5;241m=\u001b[39m\u001b[38;5;28mself\u001b[39m\u001b[38;5;241m.\u001b[39mparent_name,\n\u001b[1;32m    312\u001b[0m                     invalid\u001b[38;5;241m=\u001b[39minvalid_els[:\u001b[38;5;241m10\u001b[39m],\n\u001b[1;32m    313\u001b[0m                     valid_clr_desc\u001b[38;5;241m=\u001b[39m\u001b[38;5;28mself\u001b[39m\u001b[38;5;241m.\u001b[39mdescription(),\n\u001b[1;32m    314\u001b[0m                 )\n\u001b[1;32m    315\u001b[0m             )\n",
      "\u001b[0;31mValueError\u001b[0m: \n    Invalid element(s) received for the 'size' property of scatter.marker\n        Invalid elements include: [-15.894783790141567]\n\n    The 'size' property is a number and may be specified as:\n      - An int or float in the interval [0, inf]\n      - A tuple, list, or one-dimensional numpy array of the above"
     ]
    }
   ],
   "source": [
    "fig = fi_scatter_plot.plot_fi_scatter(layer_id1='gpt2_7', layer_id2='bert_1')\n",
    "fig.show()"
   ]
  },
  {
   "cell_type": "code",
   "execution_count": 45,
   "metadata": {},
   "outputs": [
    {
     "name": "stdout",
     "output_type": "stream",
     "text": [
      "Folder '/scratch2/jsalle/MLEM/feature_importance_scatter_plots/svo_long_word_level_offset_simplif' already exists.\n"
     ]
    },
    {
     "data": {
      "application/vnd.plotly.v1+json": {
       "config": {
        "plotlyServerURL": "https://plot.ly"
       },
       "data": [
        {
         "coloraxis": "coloraxis",
         "hovertemplate": "Layer: %{x}<br>Layer: %{y}<br>Correlation: %{z}<extra></extra>",
         "name": "0",
         "texttemplate": "%{z:.2f}",
         "type": "heatmap",
         "x": [
          "gpt2_l1",
          "gpt2_l2",
          "gpt2_l3",
          "gpt2_l4",
          "gpt2_l5",
          "gpt2_l6",
          "gpt2_l7",
          "gpt2_l8",
          "gpt2_l9",
          "gpt2_l10",
          "gpt2_l11",
          "gpt2_l12"
         ],
         "xaxis": "x",
         "y": [
          "gpt2_l1",
          "gpt2_l2",
          "gpt2_l3",
          "gpt2_l4",
          "gpt2_l5",
          "gpt2_l6",
          "gpt2_l7",
          "gpt2_l8",
          "gpt2_l9",
          "gpt2_l10",
          "gpt2_l11",
          "gpt2_l12"
         ],
         "yaxis": "y",
         "z": [
          [
           1,
           0.9619944399924812,
           0.9198734080179296,
           0.9186755319770338,
           0.8851365265518081,
           0.9234415725218829,
           0.9211494160809868,
           0.9498691982024876,
           0.9222850439913058,
           0.9293046373830754,
           0.9553572052419897,
           0.3032836031317646
          ],
          [
           0.9619944399924812,
           1,
           0.9752478468124727,
           0.9809444162823459,
           0.970751220912096,
           0.9915855979484292,
           0.9907567696947325,
           0.9930791725147112,
           0.9860994612448897,
           0.9836124503194641,
           0.9716536750808837,
           0.37371751191708324
          ],
          [
           0.9198734080179296,
           0.9752478468124727,
           1,
           0.9980643682200251,
           0.9920820323603562,
           0.9875798745498032,
           0.9855720644222098,
           0.9615414718924048,
           0.9613021742225786,
           0.9526295397894897,
           0.9209763680694659,
           0.5588731177315908
          ],
          [
           0.9186755319770338,
           0.9809444162823459,
           0.9980643682200251,
           1,
           0.9960271329628752,
           0.993174332709888,
           0.9914244290633439,
           0.9678780348212933,
           0.9692509589567926,
           0.9587313864271864,
           0.9223643358580269,
           0.5298432197575791
          ],
          [
           0.8851365265518081,
           0.970751220912096,
           0.9920820323603562,
           0.9960271329628752,
           1,
           0.9921581470792551,
           0.9908978239298873,
           0.9598100248854815,
           0.967724546663268,
           0.9549365873820193,
           0.9084613215993922,
           0.5371834576662153
          ],
          [
           0.9234415725218829,
           0.9915855979484292,
           0.9875798745498032,
           0.993174332709888,
           0.9921581470792551,
           1,
           0.9997408930561522,
           0.9866364300995435,
           0.989105102446275,
           0.9820484210290542,
           0.9494180295797982,
           0.4404330485776439
          ],
          [
           0.9211494160809868,
           0.9907567696947325,
           0.9855720644222098,
           0.9914244290633439,
           0.9908978239298873,
           0.9997408930561522,
           1,
           0.9884231159926822,
           0.9916961156135583,
           0.985066014228258,
           0.9507515996977739,
           0.4295656679248614
          ],
          [
           0.9498691982024876,
           0.9930791725147112,
           0.9615414718924048,
           0.9678780348212933,
           0.9598100248854815,
           0.9866364300995435,
           0.9884231159926822,
           1,
           0.9966819455557954,
           0.9972938169519843,
           0.9788015685608334,
           0.3149183728549132
          ],
          [
           0.9222850439913058,
           0.9860994612448897,
           0.9613021742225786,
           0.9692509589567926,
           0.967724546663268,
           0.989105102446275,
           0.9916961156135583,
           0.9966819455557954,
           1,
           0.9979364650960079,
           0.9660983212622901,
           0.3287167360189324
          ],
          [
           0.9293046373830754,
           0.9836124503194641,
           0.9526295397894897,
           0.9587313864271864,
           0.9549365873820193,
           0.9820484210290542,
           0.985066014228258,
           0.9972938169519843,
           0.9979364650960079,
           1,
           0.9769565063013842,
           0.2994567216287855
          ],
          [
           0.9553572052419897,
           0.9716536750808837,
           0.9209763680694659,
           0.9223643358580269,
           0.9084613215993922,
           0.9494180295797982,
           0.9507515996977739,
           0.9788015685608334,
           0.9660983212622901,
           0.9769565063013842,
           1,
           0.2531169869534612
          ],
          [
           0.3032836031317646,
           0.37371751191708324,
           0.5588731177315908,
           0.5298432197575791,
           0.5371834576662153,
           0.4404330485776439,
           0.4295656679248614,
           0.3149183728549132,
           0.3287167360189324,
           0.2994567216287855,
           0.2531169869534612,
           1
          ]
         ]
        }
       ],
       "layout": {
        "coloraxis": {
         "colorbar": {
          "title": {
           "text": "Correlation"
          }
         },
         "colorscale": [
          [
           0,
           "#440154"
          ],
          [
           0.1111111111111111,
           "#482878"
          ],
          [
           0.2222222222222222,
           "#3e4989"
          ],
          [
           0.3333333333333333,
           "#31688e"
          ],
          [
           0.4444444444444444,
           "#26828e"
          ],
          [
           0.5555555555555556,
           "#1f9e89"
          ],
          [
           0.6666666666666666,
           "#35b779"
          ],
          [
           0.7777777777777778,
           "#6ece58"
          ],
          [
           0.8888888888888888,
           "#b5de2b"
          ],
          [
           1,
           "#fde725"
          ]
         ]
        },
        "margin": {
         "t": 60
        },
        "template": {
         "data": {
          "bar": [
           {
            "error_x": {
             "color": "#2a3f5f"
            },
            "error_y": {
             "color": "#2a3f5f"
            },
            "marker": {
             "line": {
              "color": "#E5ECF6",
              "width": 0.5
             },
             "pattern": {
              "fillmode": "overlay",
              "size": 10,
              "solidity": 0.2
             }
            },
            "type": "bar"
           }
          ],
          "barpolar": [
           {
            "marker": {
             "line": {
              "color": "#E5ECF6",
              "width": 0.5
             },
             "pattern": {
              "fillmode": "overlay",
              "size": 10,
              "solidity": 0.2
             }
            },
            "type": "barpolar"
           }
          ],
          "carpet": [
           {
            "aaxis": {
             "endlinecolor": "#2a3f5f",
             "gridcolor": "white",
             "linecolor": "white",
             "minorgridcolor": "white",
             "startlinecolor": "#2a3f5f"
            },
            "baxis": {
             "endlinecolor": "#2a3f5f",
             "gridcolor": "white",
             "linecolor": "white",
             "minorgridcolor": "white",
             "startlinecolor": "#2a3f5f"
            },
            "type": "carpet"
           }
          ],
          "choropleth": [
           {
            "colorbar": {
             "outlinewidth": 0,
             "ticks": ""
            },
            "type": "choropleth"
           }
          ],
          "contour": [
           {
            "colorbar": {
             "outlinewidth": 0,
             "ticks": ""
            },
            "colorscale": [
             [
              0,
              "#0d0887"
             ],
             [
              0.1111111111111111,
              "#46039f"
             ],
             [
              0.2222222222222222,
              "#7201a8"
             ],
             [
              0.3333333333333333,
              "#9c179e"
             ],
             [
              0.4444444444444444,
              "#bd3786"
             ],
             [
              0.5555555555555556,
              "#d8576b"
             ],
             [
              0.6666666666666666,
              "#ed7953"
             ],
             [
              0.7777777777777778,
              "#fb9f3a"
             ],
             [
              0.8888888888888888,
              "#fdca26"
             ],
             [
              1,
              "#f0f921"
             ]
            ],
            "type": "contour"
           }
          ],
          "contourcarpet": [
           {
            "colorbar": {
             "outlinewidth": 0,
             "ticks": ""
            },
            "type": "contourcarpet"
           }
          ],
          "heatmap": [
           {
            "colorbar": {
             "outlinewidth": 0,
             "ticks": ""
            },
            "colorscale": [
             [
              0,
              "#0d0887"
             ],
             [
              0.1111111111111111,
              "#46039f"
             ],
             [
              0.2222222222222222,
              "#7201a8"
             ],
             [
              0.3333333333333333,
              "#9c179e"
             ],
             [
              0.4444444444444444,
              "#bd3786"
             ],
             [
              0.5555555555555556,
              "#d8576b"
             ],
             [
              0.6666666666666666,
              "#ed7953"
             ],
             [
              0.7777777777777778,
              "#fb9f3a"
             ],
             [
              0.8888888888888888,
              "#fdca26"
             ],
             [
              1,
              "#f0f921"
             ]
            ],
            "type": "heatmap"
           }
          ],
          "heatmapgl": [
           {
            "colorbar": {
             "outlinewidth": 0,
             "ticks": ""
            },
            "colorscale": [
             [
              0,
              "#0d0887"
             ],
             [
              0.1111111111111111,
              "#46039f"
             ],
             [
              0.2222222222222222,
              "#7201a8"
             ],
             [
              0.3333333333333333,
              "#9c179e"
             ],
             [
              0.4444444444444444,
              "#bd3786"
             ],
             [
              0.5555555555555556,
              "#d8576b"
             ],
             [
              0.6666666666666666,
              "#ed7953"
             ],
             [
              0.7777777777777778,
              "#fb9f3a"
             ],
             [
              0.8888888888888888,
              "#fdca26"
             ],
             [
              1,
              "#f0f921"
             ]
            ],
            "type": "heatmapgl"
           }
          ],
          "histogram": [
           {
            "marker": {
             "pattern": {
              "fillmode": "overlay",
              "size": 10,
              "solidity": 0.2
             }
            },
            "type": "histogram"
           }
          ],
          "histogram2d": [
           {
            "colorbar": {
             "outlinewidth": 0,
             "ticks": ""
            },
            "colorscale": [
             [
              0,
              "#0d0887"
             ],
             [
              0.1111111111111111,
              "#46039f"
             ],
             [
              0.2222222222222222,
              "#7201a8"
             ],
             [
              0.3333333333333333,
              "#9c179e"
             ],
             [
              0.4444444444444444,
              "#bd3786"
             ],
             [
              0.5555555555555556,
              "#d8576b"
             ],
             [
              0.6666666666666666,
              "#ed7953"
             ],
             [
              0.7777777777777778,
              "#fb9f3a"
             ],
             [
              0.8888888888888888,
              "#fdca26"
             ],
             [
              1,
              "#f0f921"
             ]
            ],
            "type": "histogram2d"
           }
          ],
          "histogram2dcontour": [
           {
            "colorbar": {
             "outlinewidth": 0,
             "ticks": ""
            },
            "colorscale": [
             [
              0,
              "#0d0887"
             ],
             [
              0.1111111111111111,
              "#46039f"
             ],
             [
              0.2222222222222222,
              "#7201a8"
             ],
             [
              0.3333333333333333,
              "#9c179e"
             ],
             [
              0.4444444444444444,
              "#bd3786"
             ],
             [
              0.5555555555555556,
              "#d8576b"
             ],
             [
              0.6666666666666666,
              "#ed7953"
             ],
             [
              0.7777777777777778,
              "#fb9f3a"
             ],
             [
              0.8888888888888888,
              "#fdca26"
             ],
             [
              1,
              "#f0f921"
             ]
            ],
            "type": "histogram2dcontour"
           }
          ],
          "mesh3d": [
           {
            "colorbar": {
             "outlinewidth": 0,
             "ticks": ""
            },
            "type": "mesh3d"
           }
          ],
          "parcoords": [
           {
            "line": {
             "colorbar": {
              "outlinewidth": 0,
              "ticks": ""
             }
            },
            "type": "parcoords"
           }
          ],
          "pie": [
           {
            "automargin": true,
            "type": "pie"
           }
          ],
          "scatter": [
           {
            "fillpattern": {
             "fillmode": "overlay",
             "size": 10,
             "solidity": 0.2
            },
            "type": "scatter"
           }
          ],
          "scatter3d": [
           {
            "line": {
             "colorbar": {
              "outlinewidth": 0,
              "ticks": ""
             }
            },
            "marker": {
             "colorbar": {
              "outlinewidth": 0,
              "ticks": ""
             }
            },
            "type": "scatter3d"
           }
          ],
          "scattercarpet": [
           {
            "marker": {
             "colorbar": {
              "outlinewidth": 0,
              "ticks": ""
             }
            },
            "type": "scattercarpet"
           }
          ],
          "scattergeo": [
           {
            "marker": {
             "colorbar": {
              "outlinewidth": 0,
              "ticks": ""
             }
            },
            "type": "scattergeo"
           }
          ],
          "scattergl": [
           {
            "marker": {
             "colorbar": {
              "outlinewidth": 0,
              "ticks": ""
             }
            },
            "type": "scattergl"
           }
          ],
          "scattermapbox": [
           {
            "marker": {
             "colorbar": {
              "outlinewidth": 0,
              "ticks": ""
             }
            },
            "type": "scattermapbox"
           }
          ],
          "scatterpolar": [
           {
            "marker": {
             "colorbar": {
              "outlinewidth": 0,
              "ticks": ""
             }
            },
            "type": "scatterpolar"
           }
          ],
          "scatterpolargl": [
           {
            "marker": {
             "colorbar": {
              "outlinewidth": 0,
              "ticks": ""
             }
            },
            "type": "scatterpolargl"
           }
          ],
          "scatterternary": [
           {
            "marker": {
             "colorbar": {
              "outlinewidth": 0,
              "ticks": ""
             }
            },
            "type": "scatterternary"
           }
          ],
          "surface": [
           {
            "colorbar": {
             "outlinewidth": 0,
             "ticks": ""
            },
            "colorscale": [
             [
              0,
              "#0d0887"
             ],
             [
              0.1111111111111111,
              "#46039f"
             ],
             [
              0.2222222222222222,
              "#7201a8"
             ],
             [
              0.3333333333333333,
              "#9c179e"
             ],
             [
              0.4444444444444444,
              "#bd3786"
             ],
             [
              0.5555555555555556,
              "#d8576b"
             ],
             [
              0.6666666666666666,
              "#ed7953"
             ],
             [
              0.7777777777777778,
              "#fb9f3a"
             ],
             [
              0.8888888888888888,
              "#fdca26"
             ],
             [
              1,
              "#f0f921"
             ]
            ],
            "type": "surface"
           }
          ],
          "table": [
           {
            "cells": {
             "fill": {
              "color": "#EBF0F8"
             },
             "line": {
              "color": "white"
             }
            },
            "header": {
             "fill": {
              "color": "#C8D4E3"
             },
             "line": {
              "color": "white"
             }
            },
            "type": "table"
           }
          ]
         },
         "layout": {
          "annotationdefaults": {
           "arrowcolor": "#2a3f5f",
           "arrowhead": 0,
           "arrowwidth": 1
          },
          "autotypenumbers": "strict",
          "coloraxis": {
           "colorbar": {
            "outlinewidth": 0,
            "ticks": ""
           }
          },
          "colorscale": {
           "diverging": [
            [
             0,
             "#8e0152"
            ],
            [
             0.1,
             "#c51b7d"
            ],
            [
             0.2,
             "#de77ae"
            ],
            [
             0.3,
             "#f1b6da"
            ],
            [
             0.4,
             "#fde0ef"
            ],
            [
             0.5,
             "#f7f7f7"
            ],
            [
             0.6,
             "#e6f5d0"
            ],
            [
             0.7,
             "#b8e186"
            ],
            [
             0.8,
             "#7fbc41"
            ],
            [
             0.9,
             "#4d9221"
            ],
            [
             1,
             "#276419"
            ]
           ],
           "sequential": [
            [
             0,
             "#0d0887"
            ],
            [
             0.1111111111111111,
             "#46039f"
            ],
            [
             0.2222222222222222,
             "#7201a8"
            ],
            [
             0.3333333333333333,
             "#9c179e"
            ],
            [
             0.4444444444444444,
             "#bd3786"
            ],
            [
             0.5555555555555556,
             "#d8576b"
            ],
            [
             0.6666666666666666,
             "#ed7953"
            ],
            [
             0.7777777777777778,
             "#fb9f3a"
            ],
            [
             0.8888888888888888,
             "#fdca26"
            ],
            [
             1,
             "#f0f921"
            ]
           ],
           "sequentialminus": [
            [
             0,
             "#0d0887"
            ],
            [
             0.1111111111111111,
             "#46039f"
            ],
            [
             0.2222222222222222,
             "#7201a8"
            ],
            [
             0.3333333333333333,
             "#9c179e"
            ],
            [
             0.4444444444444444,
             "#bd3786"
            ],
            [
             0.5555555555555556,
             "#d8576b"
            ],
            [
             0.6666666666666666,
             "#ed7953"
            ],
            [
             0.7777777777777778,
             "#fb9f3a"
            ],
            [
             0.8888888888888888,
             "#fdca26"
            ],
            [
             1,
             "#f0f921"
            ]
           ]
          },
          "colorway": [
           "#636efa",
           "#EF553B",
           "#00cc96",
           "#ab63fa",
           "#FFA15A",
           "#19d3f3",
           "#FF6692",
           "#B6E880",
           "#FF97FF",
           "#FECB52"
          ],
          "font": {
           "color": "#2a3f5f"
          },
          "geo": {
           "bgcolor": "white",
           "lakecolor": "white",
           "landcolor": "#E5ECF6",
           "showlakes": true,
           "showland": true,
           "subunitcolor": "white"
          },
          "hoverlabel": {
           "align": "left"
          },
          "hovermode": "closest",
          "mapbox": {
           "style": "light"
          },
          "paper_bgcolor": "white",
          "plot_bgcolor": "#E5ECF6",
          "polar": {
           "angularaxis": {
            "gridcolor": "white",
            "linecolor": "white",
            "ticks": ""
           },
           "bgcolor": "#E5ECF6",
           "radialaxis": {
            "gridcolor": "white",
            "linecolor": "white",
            "ticks": ""
           }
          },
          "scene": {
           "xaxis": {
            "backgroundcolor": "#E5ECF6",
            "gridcolor": "white",
            "gridwidth": 2,
            "linecolor": "white",
            "showbackground": true,
            "ticks": "",
            "zerolinecolor": "white"
           },
           "yaxis": {
            "backgroundcolor": "#E5ECF6",
            "gridcolor": "white",
            "gridwidth": 2,
            "linecolor": "white",
            "showbackground": true,
            "ticks": "",
            "zerolinecolor": "white"
           },
           "zaxis": {
            "backgroundcolor": "#E5ECF6",
            "gridcolor": "white",
            "gridwidth": 2,
            "linecolor": "white",
            "showbackground": true,
            "ticks": "",
            "zerolinecolor": "white"
           }
          },
          "shapedefaults": {
           "line": {
            "color": "#2a3f5f"
           }
          },
          "ternary": {
           "aaxis": {
            "gridcolor": "white",
            "linecolor": "white",
            "ticks": ""
           },
           "baxis": {
            "gridcolor": "white",
            "linecolor": "white",
            "ticks": ""
           },
           "bgcolor": "#E5ECF6",
           "caxis": {
            "gridcolor": "white",
            "linecolor": "white",
            "ticks": ""
           }
          },
          "title": {
           "x": 0.05
          },
          "xaxis": {
           "automargin": true,
           "gridcolor": "white",
           "linecolor": "white",
           "ticks": "",
           "title": {
            "standoff": 15
           },
           "zerolinecolor": "white",
           "zerolinewidth": 2
          },
          "yaxis": {
           "automargin": true,
           "gridcolor": "white",
           "linecolor": "white",
           "ticks": "",
           "title": {
            "standoff": 15
           },
           "zerolinecolor": "white",
           "zerolinewidth": 2
          }
         }
        },
        "title": {
         "text": "Correlation Between "
        },
        "xaxis": {
         "anchor": "y",
         "constrain": "domain",
         "domain": [
          0,
          1
         ],
         "scaleanchor": "y",
         "title": {
          "text": "Layer"
         }
        },
        "yaxis": {
         "anchor": "x",
         "autorange": "reversed",
         "constrain": "domain",
         "domain": [
          0,
          1
         ],
         "title": {
          "text": "Layer"
         }
        }
       }
      },
      "text/html": [
       "<div>                            <div id=\"3fca9116-1f34-408d-9260-755894b489f9\" class=\"plotly-graph-div\" style=\"height:525px; width:100%;\"></div>            <script type=\"text/javascript\">                require([\"plotly\"], function(Plotly) {                    window.PLOTLYENV=window.PLOTLYENV || {};                                    if (document.getElementById(\"3fca9116-1f34-408d-9260-755894b489f9\")) {                    Plotly.newPlot(                        \"3fca9116-1f34-408d-9260-755894b489f9\",                        [{\"coloraxis\":\"coloraxis\",\"name\":\"0\",\"texttemplate\":\"%{z:.2f}\",\"x\":[\"gpt2_l1\",\"gpt2_l2\",\"gpt2_l3\",\"gpt2_l4\",\"gpt2_l5\",\"gpt2_l6\",\"gpt2_l7\",\"gpt2_l8\",\"gpt2_l9\",\"gpt2_l10\",\"gpt2_l11\",\"gpt2_l12\"],\"y\":[\"gpt2_l1\",\"gpt2_l2\",\"gpt2_l3\",\"gpt2_l4\",\"gpt2_l5\",\"gpt2_l6\",\"gpt2_l7\",\"gpt2_l8\",\"gpt2_l9\",\"gpt2_l10\",\"gpt2_l11\",\"gpt2_l12\"],\"z\":[[1.0,0.9619944399924812,0.9198734080179296,0.9186755319770338,0.8851365265518081,0.9234415725218829,0.9211494160809868,0.9498691982024876,0.9222850439913058,0.9293046373830754,0.9553572052419897,0.3032836031317646],[0.9619944399924812,1.0,0.9752478468124727,0.9809444162823459,0.970751220912096,0.9915855979484292,0.9907567696947325,0.9930791725147112,0.9860994612448897,0.9836124503194641,0.9716536750808837,0.37371751191708324],[0.9198734080179296,0.9752478468124727,1.0,0.9980643682200251,0.9920820323603562,0.9875798745498032,0.9855720644222098,0.9615414718924048,0.9613021742225786,0.9526295397894897,0.9209763680694659,0.5588731177315908],[0.9186755319770338,0.9809444162823459,0.9980643682200251,1.0,0.9960271329628752,0.993174332709888,0.9914244290633439,0.9678780348212933,0.9692509589567926,0.9587313864271864,0.9223643358580269,0.5298432197575791],[0.8851365265518081,0.970751220912096,0.9920820323603562,0.9960271329628752,1.0,0.9921581470792551,0.9908978239298873,0.9598100248854815,0.967724546663268,0.9549365873820193,0.9084613215993922,0.5371834576662153],[0.9234415725218829,0.9915855979484292,0.9875798745498032,0.993174332709888,0.9921581470792551,1.0,0.9997408930561522,0.9866364300995435,0.989105102446275,0.9820484210290542,0.9494180295797982,0.4404330485776439],[0.9211494160809868,0.9907567696947325,0.9855720644222098,0.9914244290633439,0.9908978239298873,0.9997408930561522,1.0,0.9884231159926822,0.9916961156135583,0.985066014228258,0.9507515996977739,0.4295656679248614],[0.9498691982024876,0.9930791725147112,0.9615414718924048,0.9678780348212933,0.9598100248854815,0.9866364300995435,0.9884231159926822,1.0,0.9966819455557954,0.9972938169519843,0.9788015685608334,0.3149183728549132],[0.9222850439913058,0.9860994612448897,0.9613021742225786,0.9692509589567926,0.967724546663268,0.989105102446275,0.9916961156135583,0.9966819455557954,1.0,0.9979364650960079,0.9660983212622901,0.3287167360189324],[0.9293046373830754,0.9836124503194641,0.9526295397894897,0.9587313864271864,0.9549365873820193,0.9820484210290542,0.985066014228258,0.9972938169519843,0.9979364650960079,1.0,0.9769565063013842,0.2994567216287855],[0.9553572052419897,0.9716536750808837,0.9209763680694659,0.9223643358580269,0.9084613215993922,0.9494180295797982,0.9507515996977739,0.9788015685608334,0.9660983212622901,0.9769565063013842,1.0,0.2531169869534612],[0.3032836031317646,0.37371751191708324,0.5588731177315908,0.5298432197575791,0.5371834576662153,0.4404330485776439,0.4295656679248614,0.3149183728549132,0.3287167360189324,0.2994567216287855,0.2531169869534612,1.0]],\"type\":\"heatmap\",\"xaxis\":\"x\",\"yaxis\":\"y\",\"hovertemplate\":\"Layer: %{x}<br>Layer: %{y}<br>Correlation: %{z}<extra></extra>\"}],                        {\"template\":{\"data\":{\"histogram2dcontour\":[{\"type\":\"histogram2dcontour\",\"colorbar\":{\"outlinewidth\":0,\"ticks\":\"\"},\"colorscale\":[[0.0,\"#0d0887\"],[0.1111111111111111,\"#46039f\"],[0.2222222222222222,\"#7201a8\"],[0.3333333333333333,\"#9c179e\"],[0.4444444444444444,\"#bd3786\"],[0.5555555555555556,\"#d8576b\"],[0.6666666666666666,\"#ed7953\"],[0.7777777777777778,\"#fb9f3a\"],[0.8888888888888888,\"#fdca26\"],[1.0,\"#f0f921\"]]}],\"choropleth\":[{\"type\":\"choropleth\",\"colorbar\":{\"outlinewidth\":0,\"ticks\":\"\"}}],\"histogram2d\":[{\"type\":\"histogram2d\",\"colorbar\":{\"outlinewidth\":0,\"ticks\":\"\"},\"colorscale\":[[0.0,\"#0d0887\"],[0.1111111111111111,\"#46039f\"],[0.2222222222222222,\"#7201a8\"],[0.3333333333333333,\"#9c179e\"],[0.4444444444444444,\"#bd3786\"],[0.5555555555555556,\"#d8576b\"],[0.6666666666666666,\"#ed7953\"],[0.7777777777777778,\"#fb9f3a\"],[0.8888888888888888,\"#fdca26\"],[1.0,\"#f0f921\"]]}],\"heatmap\":[{\"type\":\"heatmap\",\"colorbar\":{\"outlinewidth\":0,\"ticks\":\"\"},\"colorscale\":[[0.0,\"#0d0887\"],[0.1111111111111111,\"#46039f\"],[0.2222222222222222,\"#7201a8\"],[0.3333333333333333,\"#9c179e\"],[0.4444444444444444,\"#bd3786\"],[0.5555555555555556,\"#d8576b\"],[0.6666666666666666,\"#ed7953\"],[0.7777777777777778,\"#fb9f3a\"],[0.8888888888888888,\"#fdca26\"],[1.0,\"#f0f921\"]]}],\"heatmapgl\":[{\"type\":\"heatmapgl\",\"colorbar\":{\"outlinewidth\":0,\"ticks\":\"\"},\"colorscale\":[[0.0,\"#0d0887\"],[0.1111111111111111,\"#46039f\"],[0.2222222222222222,\"#7201a8\"],[0.3333333333333333,\"#9c179e\"],[0.4444444444444444,\"#bd3786\"],[0.5555555555555556,\"#d8576b\"],[0.6666666666666666,\"#ed7953\"],[0.7777777777777778,\"#fb9f3a\"],[0.8888888888888888,\"#fdca26\"],[1.0,\"#f0f921\"]]}],\"contourcarpet\":[{\"type\":\"contourcarpet\",\"colorbar\":{\"outlinewidth\":0,\"ticks\":\"\"}}],\"contour\":[{\"type\":\"contour\",\"colorbar\":{\"outlinewidth\":0,\"ticks\":\"\"},\"colorscale\":[[0.0,\"#0d0887\"],[0.1111111111111111,\"#46039f\"],[0.2222222222222222,\"#7201a8\"],[0.3333333333333333,\"#9c179e\"],[0.4444444444444444,\"#bd3786\"],[0.5555555555555556,\"#d8576b\"],[0.6666666666666666,\"#ed7953\"],[0.7777777777777778,\"#fb9f3a\"],[0.8888888888888888,\"#fdca26\"],[1.0,\"#f0f921\"]]}],\"surface\":[{\"type\":\"surface\",\"colorbar\":{\"outlinewidth\":0,\"ticks\":\"\"},\"colorscale\":[[0.0,\"#0d0887\"],[0.1111111111111111,\"#46039f\"],[0.2222222222222222,\"#7201a8\"],[0.3333333333333333,\"#9c179e\"],[0.4444444444444444,\"#bd3786\"],[0.5555555555555556,\"#d8576b\"],[0.6666666666666666,\"#ed7953\"],[0.7777777777777778,\"#fb9f3a\"],[0.8888888888888888,\"#fdca26\"],[1.0,\"#f0f921\"]]}],\"mesh3d\":[{\"type\":\"mesh3d\",\"colorbar\":{\"outlinewidth\":0,\"ticks\":\"\"}}],\"scatter\":[{\"fillpattern\":{\"fillmode\":\"overlay\",\"size\":10,\"solidity\":0.2},\"type\":\"scatter\"}],\"parcoords\":[{\"type\":\"parcoords\",\"line\":{\"colorbar\":{\"outlinewidth\":0,\"ticks\":\"\"}}}],\"scatterpolargl\":[{\"type\":\"scatterpolargl\",\"marker\":{\"colorbar\":{\"outlinewidth\":0,\"ticks\":\"\"}}}],\"bar\":[{\"error_x\":{\"color\":\"#2a3f5f\"},\"error_y\":{\"color\":\"#2a3f5f\"},\"marker\":{\"line\":{\"color\":\"#E5ECF6\",\"width\":0.5},\"pattern\":{\"fillmode\":\"overlay\",\"size\":10,\"solidity\":0.2}},\"type\":\"bar\"}],\"scattergeo\":[{\"type\":\"scattergeo\",\"marker\":{\"colorbar\":{\"outlinewidth\":0,\"ticks\":\"\"}}}],\"scatterpolar\":[{\"type\":\"scatterpolar\",\"marker\":{\"colorbar\":{\"outlinewidth\":0,\"ticks\":\"\"}}}],\"histogram\":[{\"marker\":{\"pattern\":{\"fillmode\":\"overlay\",\"size\":10,\"solidity\":0.2}},\"type\":\"histogram\"}],\"scattergl\":[{\"type\":\"scattergl\",\"marker\":{\"colorbar\":{\"outlinewidth\":0,\"ticks\":\"\"}}}],\"scatter3d\":[{\"type\":\"scatter3d\",\"line\":{\"colorbar\":{\"outlinewidth\":0,\"ticks\":\"\"}},\"marker\":{\"colorbar\":{\"outlinewidth\":0,\"ticks\":\"\"}}}],\"scattermapbox\":[{\"type\":\"scattermapbox\",\"marker\":{\"colorbar\":{\"outlinewidth\":0,\"ticks\":\"\"}}}],\"scatterternary\":[{\"type\":\"scatterternary\",\"marker\":{\"colorbar\":{\"outlinewidth\":0,\"ticks\":\"\"}}}],\"scattercarpet\":[{\"type\":\"scattercarpet\",\"marker\":{\"colorbar\":{\"outlinewidth\":0,\"ticks\":\"\"}}}],\"carpet\":[{\"aaxis\":{\"endlinecolor\":\"#2a3f5f\",\"gridcolor\":\"white\",\"linecolor\":\"white\",\"minorgridcolor\":\"white\",\"startlinecolor\":\"#2a3f5f\"},\"baxis\":{\"endlinecolor\":\"#2a3f5f\",\"gridcolor\":\"white\",\"linecolor\":\"white\",\"minorgridcolor\":\"white\",\"startlinecolor\":\"#2a3f5f\"},\"type\":\"carpet\"}],\"table\":[{\"cells\":{\"fill\":{\"color\":\"#EBF0F8\"},\"line\":{\"color\":\"white\"}},\"header\":{\"fill\":{\"color\":\"#C8D4E3\"},\"line\":{\"color\":\"white\"}},\"type\":\"table\"}],\"barpolar\":[{\"marker\":{\"line\":{\"color\":\"#E5ECF6\",\"width\":0.5},\"pattern\":{\"fillmode\":\"overlay\",\"size\":10,\"solidity\":0.2}},\"type\":\"barpolar\"}],\"pie\":[{\"automargin\":true,\"type\":\"pie\"}]},\"layout\":{\"autotypenumbers\":\"strict\",\"colorway\":[\"#636efa\",\"#EF553B\",\"#00cc96\",\"#ab63fa\",\"#FFA15A\",\"#19d3f3\",\"#FF6692\",\"#B6E880\",\"#FF97FF\",\"#FECB52\"],\"font\":{\"color\":\"#2a3f5f\"},\"hovermode\":\"closest\",\"hoverlabel\":{\"align\":\"left\"},\"paper_bgcolor\":\"white\",\"plot_bgcolor\":\"#E5ECF6\",\"polar\":{\"bgcolor\":\"#E5ECF6\",\"angularaxis\":{\"gridcolor\":\"white\",\"linecolor\":\"white\",\"ticks\":\"\"},\"radialaxis\":{\"gridcolor\":\"white\",\"linecolor\":\"white\",\"ticks\":\"\"}},\"ternary\":{\"bgcolor\":\"#E5ECF6\",\"aaxis\":{\"gridcolor\":\"white\",\"linecolor\":\"white\",\"ticks\":\"\"},\"baxis\":{\"gridcolor\":\"white\",\"linecolor\":\"white\",\"ticks\":\"\"},\"caxis\":{\"gridcolor\":\"white\",\"linecolor\":\"white\",\"ticks\":\"\"}},\"coloraxis\":{\"colorbar\":{\"outlinewidth\":0,\"ticks\":\"\"}},\"colorscale\":{\"sequential\":[[0.0,\"#0d0887\"],[0.1111111111111111,\"#46039f\"],[0.2222222222222222,\"#7201a8\"],[0.3333333333333333,\"#9c179e\"],[0.4444444444444444,\"#bd3786\"],[0.5555555555555556,\"#d8576b\"],[0.6666666666666666,\"#ed7953\"],[0.7777777777777778,\"#fb9f3a\"],[0.8888888888888888,\"#fdca26\"],[1.0,\"#f0f921\"]],\"sequentialminus\":[[0.0,\"#0d0887\"],[0.1111111111111111,\"#46039f\"],[0.2222222222222222,\"#7201a8\"],[0.3333333333333333,\"#9c179e\"],[0.4444444444444444,\"#bd3786\"],[0.5555555555555556,\"#d8576b\"],[0.6666666666666666,\"#ed7953\"],[0.7777777777777778,\"#fb9f3a\"],[0.8888888888888888,\"#fdca26\"],[1.0,\"#f0f921\"]],\"diverging\":[[0,\"#8e0152\"],[0.1,\"#c51b7d\"],[0.2,\"#de77ae\"],[0.3,\"#f1b6da\"],[0.4,\"#fde0ef\"],[0.5,\"#f7f7f7\"],[0.6,\"#e6f5d0\"],[0.7,\"#b8e186\"],[0.8,\"#7fbc41\"],[0.9,\"#4d9221\"],[1,\"#276419\"]]},\"xaxis\":{\"gridcolor\":\"white\",\"linecolor\":\"white\",\"ticks\":\"\",\"title\":{\"standoff\":15},\"zerolinecolor\":\"white\",\"automargin\":true,\"zerolinewidth\":2},\"yaxis\":{\"gridcolor\":\"white\",\"linecolor\":\"white\",\"ticks\":\"\",\"title\":{\"standoff\":15},\"zerolinecolor\":\"white\",\"automargin\":true,\"zerolinewidth\":2},\"scene\":{\"xaxis\":{\"backgroundcolor\":\"#E5ECF6\",\"gridcolor\":\"white\",\"linecolor\":\"white\",\"showbackground\":true,\"ticks\":\"\",\"zerolinecolor\":\"white\",\"gridwidth\":2},\"yaxis\":{\"backgroundcolor\":\"#E5ECF6\",\"gridcolor\":\"white\",\"linecolor\":\"white\",\"showbackground\":true,\"ticks\":\"\",\"zerolinecolor\":\"white\",\"gridwidth\":2},\"zaxis\":{\"backgroundcolor\":\"#E5ECF6\",\"gridcolor\":\"white\",\"linecolor\":\"white\",\"showbackground\":true,\"ticks\":\"\",\"zerolinecolor\":\"white\",\"gridwidth\":2}},\"shapedefaults\":{\"line\":{\"color\":\"#2a3f5f\"}},\"annotationdefaults\":{\"arrowcolor\":\"#2a3f5f\",\"arrowhead\":0,\"arrowwidth\":1},\"geo\":{\"bgcolor\":\"white\",\"landcolor\":\"#E5ECF6\",\"subunitcolor\":\"white\",\"showland\":true,\"showlakes\":true,\"lakecolor\":\"white\"},\"title\":{\"x\":0.05},\"mapbox\":{\"style\":\"light\"}}},\"xaxis\":{\"anchor\":\"y\",\"domain\":[0.0,1.0],\"scaleanchor\":\"y\",\"constrain\":\"domain\",\"title\":{\"text\":\"Layer\"}},\"yaxis\":{\"anchor\":\"x\",\"domain\":[0.0,1.0],\"autorange\":\"reversed\",\"constrain\":\"domain\",\"title\":{\"text\":\"Layer\"}},\"coloraxis\":{\"colorbar\":{\"title\":{\"text\":\"Correlation\"}},\"colorscale\":[[0.0,\"#440154\"],[0.1111111111111111,\"#482878\"],[0.2222222222222222,\"#3e4989\"],[0.3333333333333333,\"#31688e\"],[0.4444444444444444,\"#26828e\"],[0.5555555555555556,\"#1f9e89\"],[0.6666666666666666,\"#35b779\"],[0.7777777777777778,\"#6ece58\"],[0.8888888888888888,\"#b5de2b\"],[1.0,\"#fde725\"]]},\"margin\":{\"t\":60},\"title\":{\"text\":\"Correlation Between \"}},                        {\"responsive\": true}                    ).then(function(){\n",
       "                            \n",
       "var gd = document.getElementById('3fca9116-1f34-408d-9260-755894b489f9');\n",
       "var x = new MutationObserver(function (mutations, observer) {{\n",
       "        var display = window.getComputedStyle(gd).display;\n",
       "        if (!display || display === 'none') {{\n",
       "            console.log([gd, 'removed!']);\n",
       "            Plotly.purge(gd);\n",
       "            observer.disconnect();\n",
       "        }}\n",
       "}});\n",
       "\n",
       "// Listen for the removal of the full notebook cells\n",
       "var notebookContainer = gd.closest('#notebook-container');\n",
       "if (notebookContainer) {{\n",
       "    x.observe(notebookContainer, {childList: true});\n",
       "}}\n",
       "\n",
       "// Listen for the clearing of the current output cell\n",
       "var outputEl = gd.closest('.output');\n",
       "if (outputEl) {{\n",
       "    x.observe(outputEl, {childList: true});\n",
       "}}\n",
       "\n",
       "                        })                };                });            </script>        </div>"
      ]
     },
     "metadata": {},
     "output_type": "display_data"
    }
   ],
   "source": [
    "fi_scatter_plot = FeatureImportanceScatterPlot(models_names=[\"gpt2\"],\n",
    "                                               dataset='svo_long_word_level_offset_simplif',\n",
    "                                               take_activation_from='last-token')\n",
    "\n",
    "fi_scatter_df = fi_scatter_plot.get_feature_importances()\n",
    "pairwise_correlation = fi_scatter_plot.pairwise_correlation_matrix()\n",
    "fi_scatter_plot.plot_pairwise_correlation_matrix()"
   ]
  },
  {
   "cell_type": "code",
   "execution_count": 52,
   "metadata": {},
   "outputs": [
    {
     "data": {
      "text/plain": [
       "0   -7.229649\n",
       "1   -8.296893\n",
       "2   -5.874147\n",
       "3   -4.979906\n",
       "4   -5.981000\n",
       "5   -9.665135\n",
       "6   -5.685040\n",
       "7   -9.149987\n",
       "Name: max_value_pre, dtype: float64"
      ]
     },
     "execution_count": 52,
     "metadata": {},
     "output_type": "execute_result"
    }
   ],
   "source": [
    "fi_scatter_df['max_value_pre']"
   ]
  },
  {
   "cell_type": "code",
   "execution_count": 57,
   "metadata": {},
   "outputs": [],
   "source": [
    "fi_scatter_df['now'] = fi_scatter_df['max_value_pre'] - fi_scatter_df['max_value_pre'].min() + 1"
   ]
  },
  {
   "cell_type": "code",
   "execution_count": 58,
   "metadata": {},
   "outputs": [
    {
     "data": {
      "text/plain": [
       "0    2.435487\n",
       "1    1.368243\n",
       "2    3.790989\n",
       "3    4.685230\n",
       "4    3.684135\n",
       "5    0.000000\n",
       "6    3.980095\n",
       "7    0.515148\n",
       "Name: now, dtype: float64"
      ]
     },
     "execution_count": 58,
     "metadata": {},
     "output_type": "execute_result"
    }
   ],
   "source": [
    "fi_scatter_df['now']"
   ]
  },
  {
   "cell_type": "code",
   "execution_count": null,
   "metadata": {},
   "outputs": [],
   "source": []
  }
 ],
 "metadata": {
  "kernelspec": {
   "display_name": "p11",
   "language": "python",
   "name": "python3"
  },
  "language_info": {
   "codemirror_mode": {
    "name": "ipython",
    "version": 3
   },
   "file_extension": ".py",
   "mimetype": "text/x-python",
   "name": "python",
   "nbconvert_exporter": "python",
   "pygments_lexer": "ipython3",
   "version": "3.1.undefined"
  }
 },
 "nbformat": 4,
 "nbformat_minor": 2
}
